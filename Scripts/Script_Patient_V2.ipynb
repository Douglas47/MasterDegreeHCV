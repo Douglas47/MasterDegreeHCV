{
 "cells": [
  {
   "cell_type": "code",
   "execution_count": 1,
   "metadata": {},
   "outputs": [],
   "source": [
    "import collections\n",
    "import pandas as pd\n",
    "from Global_Variables import *"
   ]
  },
  {
   "cell_type": "markdown",
   "metadata": {},
   "source": [
    "#### USER INPUT"
   ]
  },
  {
   "cell_type": "code",
   "execution_count": 2,
   "metadata": {},
   "outputs": [
    {
     "name": "stdin",
     "output_type": "stream",
     "text": [
      "Genótipo: 3\n"
     ]
    },
    {
     "name": "stdout",
     "output_type": "stream",
     "text": [
      "AB036521.1\n",
      "TCCGGCTCGTGGCTCAGGGATGTTTGGGACTGGATATGCACGGTGTTGACTGACTTCAAGACCTGGCTCCAGTCCAAGCTCCTGCCACGGTTGCCGGGGGTCCCTTTCCTTTCATGCCAACGTGGATATAAGGGAGTCTGGCGAGGAGATGGCGTCATGCACACCACTTGCCCATGTGGCGCACAAATCACCGGACATGTCAAAAACGGTTCCATGAGGATCGTTGGGCCTAAAACCTGTAGCAACACGTGGCACGGAACATTCCCCATCAACGCGTACACCACGGGTTCCTGCACGCCCTCCCCGGCGCCAAACTATTCCAGGGCGTTGTGGCGGGTGGCTGCTGAGGAGTACGTGGAGGTCACGCGGGTGGGGGATTTCCACTACGTGACGGGCATGACCACTGACAACATAAAATGCCCATGCCAGGTTCCGGCCCCCGAATTTTTCACAGAGTTGGACGGGGTGCGGCTGCACAGGTACGCTCCGGCGTGCAAACCTCTCTTACGGGATGAGGTCACATTCCAGGTCGGGCTCAACCAATACGTGGTTGGGTCCCAGCTCCCATGCGAGCCCGAACCGGATGTAACAGTGCTCACTTCCATGCTCACCGACCCCTCCCACATTACAGCAGAGACGGCTAAGCGTAGGCTGGCCAGGGGGTCTCCCCCTTCCTTGGCCAGCTCTTCAGCTAGTCAGTTGTCTGCGCCTTCTCTGAAGGCAACATGCACCACCCATCATGACTCCCCAGACGCCGACCTCATCGAGGCCAACCTCCTGTGGCGGCAGGAGATGGGCGGGAACATCACCCGCGTGGAGTCAGAGAACAAAGTAGTGATTCTGGACTCTTTCGACCCGCTTCGAGCGGAGGAGGATGAGAGGGAAGTATCCGTTCCGGCGGAGATCCTGCGGAAAACCAGGAAATTCCCCTCAGCGTTGCCCATATGGGCACGCCCGGACTACAACCCACCACTGTTAGAGTCTTGGAGAGACCCGGACTATGTCCCTCCGGTGGTACACGGGTGCCCGTTACCACCCACCAAGGCCCCTCCAATACCACCTCCACGGAGAAAGAGAACAGTTATCCTGACAGAATCCACTGTGTCTTCTGCCTTGGCGGAGCTTGCTACAAAGACCTTCGGCAGCTCCGGATCGTCGGCCGTCGACAGCGGCACAGCGACTGCCCCTCCTGATGGGCCCTCCGACGACGGTGATGCAGGATCGGACGCTGAGTCATGTTCCTCCATGCCCCCCCTTGAGGGGGAGCCGGGGGATCCCGATCTCAGCGACGGGTCTTGGTCCACTGTAAGCGAGGAGGCCAGTGAGGACGTCGTCTGCTGC\n"
     ]
    }
   ],
   "source": [
    "patient = open(\"Patient.txt\",\"r\")\n",
    "patient_genotype = input(\"Genótipo:\")\n",
    "patient_sequence = \"\"\n",
    "patient_name = \"\"\n",
    "for linha in patient:\n",
    "    linha = linha.replace(\"\\n\",\"\")\n",
    "    if linha.startswith(\">\"):\n",
    "        name = linha[1:]\n",
    "        name = name.split()\n",
    "        name = name[0]\n",
    "        patient_name = name\n",
    "    else:\n",
    "        linha = linha.replace(\"\\n\",\"\")\n",
    "        patient_sequence += linha\n",
    "print(patient_name)\n",
    "print(patient_sequence)\n",
    "patient_info = []\n",
    "for ras in Resistance:\n",
    "    resistant = False\n",
    "    \"\"\"Position\"\"\"\n",
    "    codon = patient_sequence[(ras*3)-3:(ras*3)]\n",
    "    \"\"\"Codon\"\"\"\n",
    "    AminoAcid = codontable[codon] \n",
    "    \"\"\"AminoAcid\"\"\"\n",
    "    if AminoAcid in Resistance[ras]:\n",
    "        \"\"\"Resistance Check\"\"\"\n",
    "        resistant = True\n",
    "    patient_info.append([patient_genotype,ras,codon,AminoAcid,resistant])\n",
    "patient_file = open (\"../Outputs/patient_info\",\"w\")\n",
    "for x in patient_info:\n",
    "    x = str(x)\n",
    "    x = x[1:-1]\n",
    "    x = x.replace(\"\\'\",\"\")\n",
    "    patient_file.write(x + \"\\n\")\n",
    "patient_file.close()\n"
   ]
  },
  {
   "cell_type": "markdown",
   "metadata": {},
   "source": [
    "#### TRANSFORMANDO AS INFORMAÇÕES DO PACIENTE EM UMA TABELA"
   ]
  },
  {
   "cell_type": "code",
   "execution_count": 3,
   "metadata": {},
   "outputs": [],
   "source": [
    "df = pd.DataFrame(patient_info)\n",
    "df = df.rename(columns={0:'Genotype',\n",
    "                   1:'Position',\n",
    "                   2:'Codon',\n",
    "                   3:'AminoAcid', \n",
    "                   4:'Resistance'}\n",
    "         )"
   ]
  },
  {
   "cell_type": "code",
   "execution_count": 4,
   "metadata": {},
   "outputs": [],
   "source": [
    "df = df.drop('Resistance', 1)"
   ]
  },
  {
   "cell_type": "code",
   "execution_count": 5,
   "metadata": {},
   "outputs": [
    {
     "data": {
      "text/html": [
       "<div>\n",
       "<style scoped>\n",
       "    .dataframe tbody tr th:only-of-type {\n",
       "        vertical-align: middle;\n",
       "    }\n",
       "\n",
       "    .dataframe tbody tr th {\n",
       "        vertical-align: top;\n",
       "    }\n",
       "\n",
       "    .dataframe thead th {\n",
       "        text-align: right;\n",
       "    }\n",
       "</style>\n",
       "<table border=\"1\" class=\"dataframe\">\n",
       "  <thead>\n",
       "    <tr style=\"text-align: right;\">\n",
       "      <th></th>\n",
       "      <th>Genotype</th>\n",
       "      <th>Position</th>\n",
       "      <th>Codon</th>\n",
       "      <th>AminoAcid</th>\n",
       "    </tr>\n",
       "  </thead>\n",
       "  <tbody>\n",
       "    <tr>\n",
       "      <td>0</td>\n",
       "      <td>3</td>\n",
       "      <td>28</td>\n",
       "      <td>CTG</td>\n",
       "      <td>L</td>\n",
       "    </tr>\n",
       "    <tr>\n",
       "      <td>1</td>\n",
       "      <td>3</td>\n",
       "      <td>29</td>\n",
       "      <td>CCA</td>\n",
       "      <td>P</td>\n",
       "    </tr>\n",
       "    <tr>\n",
       "      <td>2</td>\n",
       "      <td>3</td>\n",
       "      <td>30</td>\n",
       "      <td>CGG</td>\n",
       "      <td>R</td>\n",
       "    </tr>\n",
       "    <tr>\n",
       "      <td>3</td>\n",
       "      <td>3</td>\n",
       "      <td>31</td>\n",
       "      <td>TTG</td>\n",
       "      <td>L</td>\n",
       "    </tr>\n",
       "    <tr>\n",
       "      <td>4</td>\n",
       "      <td>3</td>\n",
       "      <td>32</td>\n",
       "      <td>CCG</td>\n",
       "      <td>P</td>\n",
       "    </tr>\n",
       "    <tr>\n",
       "      <td>5</td>\n",
       "      <td>3</td>\n",
       "      <td>58</td>\n",
       "      <td>CCA</td>\n",
       "      <td>P</td>\n",
       "    </tr>\n",
       "    <tr>\n",
       "      <td>6</td>\n",
       "      <td>3</td>\n",
       "      <td>92</td>\n",
       "      <td>GCG</td>\n",
       "      <td>A</td>\n",
       "    </tr>\n",
       "    <tr>\n",
       "      <td>7</td>\n",
       "      <td>3</td>\n",
       "      <td>93</td>\n",
       "      <td>TAC</td>\n",
       "      <td>Y</td>\n",
       "    </tr>\n",
       "  </tbody>\n",
       "</table>\n",
       "</div>"
      ],
      "text/plain": [
       "  Genotype  Position Codon AminoAcid\n",
       "0        3        28   CTG         L\n",
       "1        3        29   CCA         P\n",
       "2        3        30   CGG         R\n",
       "3        3        31   TTG         L\n",
       "4        3        32   CCG         P\n",
       "5        3        58   CCA         P\n",
       "6        3        92   GCG         A\n",
       "7        3        93   TAC         Y"
      ]
     },
     "execution_count": 5,
     "metadata": {},
     "output_type": "execute_result"
    }
   ],
   "source": [
    "df"
   ]
  },
  {
   "cell_type": "code",
   "execution_count": null,
   "metadata": {},
   "outputs": [],
   "source": []
  },
  {
   "cell_type": "code",
   "execution_count": null,
   "metadata": {},
   "outputs": [],
   "source": []
  }
 ],
 "metadata": {
  "kernelspec": {
   "display_name": "Python 3",
   "language": "python",
   "name": "python3"
  },
  "language_info": {
   "codemirror_mode": {
    "name": "ipython",
    "version": 3
   },
   "file_extension": ".py",
   "mimetype": "text/x-python",
   "name": "python",
   "nbconvert_exporter": "python",
   "pygments_lexer": "ipython3",
   "version": "3.7.4"
  }
 },
 "nbformat": 4,
 "nbformat_minor": 4
}
