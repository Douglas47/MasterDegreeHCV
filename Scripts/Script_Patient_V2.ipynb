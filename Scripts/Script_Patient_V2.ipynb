{
 "cells": [
  {
   "cell_type": "code",
   "execution_count": 7,
   "metadata": {},
   "outputs": [],
   "source": [
    "import collections"
   ]
  },
  {
   "cell_type": "markdown",
   "metadata": {},
   "source": [
    "#### Resistance Table"
   ]
  },
  {
   "cell_type": "code",
   "execution_count": 8,
   "metadata": {},
   "outputs": [],
   "source": [
    "Resistance = collections.OrderedDict()\n",
    "Resistance[28] = ['T','V','A','S']\n",
    "Resistance[29] = ['S'],\n",
    "Resistance[30] = ['E','H','R','D','G','K','T','Q','P','S'], \n",
    "Resistance[31] = ['M','I','V','F'],\n",
    "Resistance[32] = ['L'],\n",
    "Resistance[58] = ['D','S'],\n",
    "Resistance[92] = ['K'],\n",
    "Resistance[93] = ['H','N','C','S']"
   ]
  },
  {
   "cell_type": "markdown",
   "metadata": {},
   "source": [
    "#### Genetic Code"
   ]
  },
  {
   "cell_type": "code",
   "execution_count": 9,
   "metadata": {},
   "outputs": [],
   "source": [
    "codontable = {\n",
    "    'ATA':'I', 'ATC':'I', 'ATT':'I', 'ATG':'M',\n",
    "    'ACA':'T', 'ACC':'T', 'ACG':'T', 'ACT':'T',\n",
    "    'AAC':'N', 'AAT':'N', 'AAA':'K', 'AAG':'K',\n",
    "    'AGC':'S', 'AGT':'S', 'AGA':'R', 'AGG':'R',\n",
    "    'CTA':'L', 'CTC':'L', 'CTG':'L', 'CTT':'L',\n",
    "    'CCA':'P', 'CCC':'P', 'CCG':'P', 'CCT':'P',\n",
    "    'CAC':'H', 'CAT':'H', 'CAA':'Q', 'CAG':'Q',\n",
    "    'CGA':'R', 'CGC':'R', 'CGG':'R', 'CGT':'R',\n",
    "    'GTA':'V', 'GTC':'V', 'GTG':'V', 'GTT':'V',\n",
    "    'GCA':'A', 'GCC':'A', 'GCG':'A', 'GCT':'A',\n",
    "    'GAC':'D', 'GAT':'D', 'GAA':'E', 'GAG':'E',\n",
    "    'GGA':'G', 'GGC':'G', 'GGG':'G', 'GGT':'G',\n",
    "    'TCA':'S', 'TCC':'S', 'TCG':'S', 'TCT':'S',\n",
    "    'TTC':'F', 'TTT':'F', 'TTA':'L', 'TTG':'L',\n",
    "    'TAC':'Y', 'TAT':'Y', 'TAA':'_', 'TAG':'_',\n",
    "    'TGC':'C', 'TGT':'C', 'TGA':'_', 'TGG':'W',\n",
    "    }"
   ]
  },
  {
   "cell_type": "markdown",
   "metadata": {},
   "source": [
    "#### USER INPUT"
   ]
  },
  {
   "cell_type": "code",
   "execution_count": 12,
   "metadata": {},
   "outputs": [
    {
     "name": "stdout",
     "output_type": "stream",
     "text": [
      "AB036521.1\n",
      "TCCGGCTCGTGGCTCAGGGATGTTTGGGACTGGATATGCACGGTGTTGACTGACTTCAAGACCTGGCTCCAGTCCAAGCTCCTGCCACGGTTGCCGGGGGTCCCTTTCCTTTCATGCCAACGTGGATATAAGGGAGTCTGGCGAGGAGATGGCGTCATGCACACCACTTGCCCATGTGGCGCACAAATCACCGGACATGTCAAAAACGGTTCCATGAGGATCGTTGGGCCTAAAACCTGTAGCAACACGTGGCACGGAACATTCCCCATCAACGCGTACACCACGGGTTCCTGCACGCCCTCCCCGGCGCCAAACTATTCCAGGGCGTTGTGGCGGGTGGCTGCTGAGGAGTACGTGGAGGTCACGCGGGTGGGGGATTTCCACTACGTGACGGGCATGACCACTGACAACATAAAATGCCCATGCCAGGTTCCGGCCCCCGAATTTTTCACAGAGTTGGACGGGGTGCGGCTGCACAGGTACGCTCCGGCGTGCAAACCTCTCTTACGGGATGAGGTCACATTCCAGGTCGGGCTCAACCAATACGTGGTTGGGTCCCAGCTCCCATGCGAGCCCGAACCGGATGTAACAGTGCTCACTTCCATGCTCACCGACCCCTCCCACATTACAGCAGAGACGGCTAAGCGTAGGCTGGCCAGGGGGTCTCCCCCTTCCTTGGCCAGCTCTTCAGCTAGTCAGTTGTCTGCGCCTTCTCTGAAGGCAACATGCACCACCCATCATGACTCCCCAGACGCCGACCTCATCGAGGCCAACCTCCTGTGGCGGCAGGAGATGGGCGGGAACATCACCCGCGTGGAGTCAGAGAACAAAGTAGTGATTCTGGACTCTTTCGACCCGCTTCGAGCGGAGGAGGATGAGAGGGAAGTATCCGTTCCGGCGGAGATCCTGCGGAAAACCAGGAAATTCCCCTCAGCGTTGCCCATATGGGCACGCCCGGACTACAACCCACCACTGTTAGAGTCTTGGAGAGACCCGGACTATGTCCCTCCGGTGGTACACGGGTGCCCGTTACCACCCACCAAGGCCCCTCCAATACCACCTCCACGGAGAAAGAGAACAGTTATCCTGACAGAATCCACTGTGTCTTCTGCCTTGGCGGAGCTTGCTACAAAGACCTTCGGCAGCTCCGGATCGTCGGCCGTCGACAGCGGCACAGCGACTGCCCCTCCTGATGGGCCCTCCGACGACGGTGATGCAGGATCGGACGCTGAGTCATGTTCCTCCATGCCCCCCCTTGAGGGGGAGCCGGGGGATCCCGATCTCAGCGACGGGTCTTGGTCCACTGTAAGCGAGGAGGCCAGTGAGGACGTCGTCTGCTGC\n"
     ]
    }
   ],
   "source": [
    "patient = open(\"Patient.txt\",\"r\")\n",
    "patient_sequence = \"\"\n",
    "patient_name = \"\"\n",
    "for linha in patient:\n",
    "    linha = linha.replace(\"\\n\",\"\")\n",
    "    if linha.startswith(\">\"):\n",
    "        name = linha[1:]\n",
    "        name = name.split()\n",
    "        name = name[0]\n",
    "        patient_name = name\n",
    "    else:\n",
    "        linha = linha.replace(\"\\n\",\"\")\n",
    "        patient_sequence += linha\n",
    "print(patient_name)\n",
    "print(patient_sequence)\n",
    "patient_info = []\n",
    "for ras in Resistance:\n",
    "    resistant = False\n",
    "    \"\"\"Position\"\"\"\n",
    "    codon = patient_sequence[(ras*3)-3:(ras*3)]\n",
    "    \"\"\"Codon\"\"\"\n",
    "    AminoAcid = codontable[codon] \n",
    "    \"\"\"AminoAcid\"\"\"\n",
    "    if AminoAcid in Resistance[ras]:\n",
    "        \"\"\"Resistance Check\"\"\"\n",
    "        resistant = True\n",
    "    patient_info.append([ras,codon,AminoAcid,resistant])\n",
    "patient_file = open (\"patient_info\",\"w\")\n",
    "for x in patient_info:\n",
    "    x = str(x)\n",
    "    x = x[1:-1]\n",
    "    x = x.replace(\"\\'\",\"\")\n",
    "    patient_file.write(x + \"\\n\")\n",
    "patient_file.close()\n"
   ]
  },
  {
   "cell_type": "code",
   "execution_count": null,
   "metadata": {},
   "outputs": [],
   "source": []
  }
 ],
 "metadata": {
  "kernelspec": {
   "display_name": "Python 3",
   "language": "python",
   "name": "python3"
  },
  "language_info": {
   "codemirror_mode": {
    "name": "ipython",
    "version": 3
   },
   "file_extension": ".py",
   "mimetype": "text/x-python",
   "name": "python",
   "nbconvert_exporter": "python",
   "pygments_lexer": "ipython3",
   "version": "3.7.3"
  }
 },
 "nbformat": 4,
 "nbformat_minor": 2
}
