{
 "cells": [
  {
   "cell_type": "code",
   "execution_count": 49,
   "metadata": {},
   "outputs": [],
   "source": [
    "import collections\n",
    "import pandas as pd"
   ]
  },
  {
   "cell_type": "markdown",
   "metadata": {},
   "source": [
    "#### Resistance Table"
   ]
  },
  {
   "cell_type": "code",
   "execution_count": 25,
   "metadata": {},
   "outputs": [],
   "source": [
    "Resistance = collections.OrderedDict()\n",
    "Resistance[28] = ['T','V','A','S']\n",
    "Resistance[29] = ['S'],\n",
    "Resistance[30] = ['E','H','R','D','G','K','T','Q','P','S'], \n",
    "Resistance[31] = ['M','I','V','F'],\n",
    "Resistance[32] = ['L'],\n",
    "Resistance[58] = ['D','S'],\n",
    "Resistance[92] = ['K'],\n",
    "Resistance[93] = ['H','N','C','S']"
   ]
  },
  {
   "cell_type": "markdown",
   "metadata": {},
   "source": [
    "#### Genetic Code"
   ]
  },
  {
   "cell_type": "code",
   "execution_count": 26,
   "metadata": {},
   "outputs": [],
   "source": [
    "codontable = {\n",
    "    'ATA':'I', 'ATC':'I', 'ATT':'I', 'ATG':'M',\n",
    "    'ACA':'T', 'ACC':'T', 'ACG':'T', 'ACT':'T',\n",
    "    'AAC':'N', 'AAT':'N', 'AAA':'K', 'AAG':'K',\n",
    "    'AGC':'S', 'AGT':'S', 'AGA':'R', 'AGG':'R',\n",
    "    'CTA':'L', 'CTC':'L', 'CTG':'L', 'CTT':'L',\n",
    "    'CCA':'P', 'CCC':'P', 'CCG':'P', 'CCT':'P',\n",
    "    'CAC':'H', 'CAT':'H', 'CAA':'Q', 'CAG':'Q',\n",
    "    'CGA':'R', 'CGC':'R', 'CGG':'R', 'CGT':'R',\n",
    "    'GTA':'V', 'GTC':'V', 'GTG':'V', 'GTT':'V',\n",
    "    'GCA':'A', 'GCC':'A', 'GCG':'A', 'GCT':'A',\n",
    "    'GAC':'D', 'GAT':'D', 'GAA':'E', 'GAG':'E',\n",
    "    'GGA':'G', 'GGC':'G', 'GGG':'G', 'GGT':'G',\n",
    "    'TCA':'S', 'TCC':'S', 'TCG':'S', 'TCT':'S',\n",
    "    'TTC':'F', 'TTT':'F', 'TTA':'L', 'TTG':'L',\n",
    "    'TAC':'Y', 'TAT':'Y', 'TAA':'_', 'TAG':'_',\n",
    "    'TGC':'C', 'TGT':'C', 'TGA':'_', 'TGG':'W',\n",
    "    }"
   ]
  },
  {
   "cell_type": "markdown",
   "metadata": {},
   "source": [
    "#### USER INPUT"
   ]
  },
  {
   "cell_type": "code",
   "execution_count": 28,
   "metadata": {},
   "outputs": [
    {
     "name": "stdin",
     "output_type": "stream",
     "text": [
      "Genótipo: 1b\n"
     ]
    },
    {
     "name": "stdout",
     "output_type": "stream",
     "text": [
      "AB036521.1\n",
      "TCCGGCTCGTGGCTCAGGGATGTTTGGGACTGGATATGCACGGTGTTGACTGACTTCAAGACCTGGCTCCAGTCCAAGCTCCTGCCACGGTTGCCGGGGGTCCCTTTCCTTTCATGCCAACGTGGATATAAGGGAGTCTGGCGAGGAGATGGCGTCATGCACACCACTTGCCCATGTGGCGCACAAATCACCGGACATGTCAAAAACGGTTCCATGAGGATCGTTGGGCCTAAAACCTGTAGCAACACGTGGCACGGAACATTCCCCATCAACGCGTACACCACGGGTTCCTGCACGCCCTCCCCGGCGCCAAACTATTCCAGGGCGTTGTGGCGGGTGGCTGCTGAGGAGTACGTGGAGGTCACGCGGGTGGGGGATTTCCACTACGTGACGGGCATGACCACTGACAACATAAAATGCCCATGCCAGGTTCCGGCCCCCGAATTTTTCACAGAGTTGGACGGGGTGCGGCTGCACAGGTACGCTCCGGCGTGCAAACCTCTCTTACGGGATGAGGTCACATTCCAGGTCGGGCTCAACCAATACGTGGTTGGGTCCCAGCTCCCATGCGAGCCCGAACCGGATGTAACAGTGCTCACTTCCATGCTCACCGACCCCTCCCACATTACAGCAGAGACGGCTAAGCGTAGGCTGGCCAGGGGGTCTCCCCCTTCCTTGGCCAGCTCTTCAGCTAGTCAGTTGTCTGCGCCTTCTCTGAAGGCAACATGCACCACCCATCATGACTCCCCAGACGCCGACCTCATCGAGGCCAACCTCCTGTGGCGGCAGGAGATGGGCGGGAACATCACCCGCGTGGAGTCAGAGAACAAAGTAGTGATTCTGGACTCTTTCGACCCGCTTCGAGCGGAGGAGGATGAGAGGGAAGTATCCGTTCCGGCGGAGATCCTGCGGAAAACCAGGAAATTCCCCTCAGCGTTGCCCATATGGGCACGCCCGGACTACAACCCACCACTGTTAGAGTCTTGGAGAGACCCGGACTATGTCCCTCCGGTGGTACACGGGTGCCCGTTACCACCCACCAAGGCCCCTCCAATACCACCTCCACGGAGAAAGAGAACAGTTATCCTGACAGAATCCACTGTGTCTTCTGCCTTGGCGGAGCTTGCTACAAAGACCTTCGGCAGCTCCGGATCGTCGGCCGTCGACAGCGGCACAGCGACTGCCCCTCCTGATGGGCCCTCCGACGACGGTGATGCAGGATCGGACGCTGAGTCATGTTCCTCCATGCCCCCCCTTGAGGGGGAGCCGGGGGATCCCGATCTCAGCGACGGGTCTTGGTCCACTGTAAGCGAGGAGGCCAGTGAGGACGTCGTCTGCTGC\n"
     ]
    }
   ],
   "source": [
    "patient = open(\"Patient.txt\",\"r\")\n",
    "patient_genotype = input(\"Genótipo:\")\n",
    "patient_sequence = \"\"\n",
    "patient_name = \"\"\n",
    "for linha in patient:\n",
    "    linha = linha.replace(\"\\n\",\"\")\n",
    "    if linha.startswith(\">\"):\n",
    "        name = linha[1:]\n",
    "        name = name.split()\n",
    "        name = name[0]\n",
    "        patient_name = name\n",
    "    else:\n",
    "        linha = linha.replace(\"\\n\",\"\")\n",
    "        patient_sequence += linha\n",
    "print(patient_name)\n",
    "print(patient_sequence)\n",
    "patient_info = []\n",
    "for ras in Resistance:\n",
    "    resistant = False\n",
    "    \"\"\"Position\"\"\"\n",
    "    codon = patient_sequence[(ras*3)-3:(ras*3)]\n",
    "    \"\"\"Codon\"\"\"\n",
    "    AminoAcid = codontable[codon] \n",
    "    \"\"\"AminoAcid\"\"\"\n",
    "    if AminoAcid in Resistance[ras]:\n",
    "        \"\"\"Resistance Check\"\"\"\n",
    "        resistant = True\n",
    "    patient_info.append([patient_genotype,ras,codon,AminoAcid,resistant])\n",
    "patient_file = open (\"patient_info\",\"w\")\n",
    "for x in patient_info:\n",
    "    x = str(x)\n",
    "    x = x[1:-1]\n",
    "    x = x.replace(\"\\'\",\"\")\n",
    "    patient_file.write(x + \"\\n\")\n",
    "patient_file.close()\n"
   ]
  },
  {
   "cell_type": "markdown",
   "metadata": {},
   "source": [
    "#### TRANSFORMANDO AS INFORMAÇÕES DO PACIENTE EM UMA TABELA"
   ]
  },
  {
   "cell_type": "code",
   "execution_count": 114,
   "metadata": {},
   "outputs": [],
   "source": [
    "df = pd.DataFrame(patient_info)\n",
    "df = df.rename(columns={0:'Genotype',\n",
    "                   1:'Position',\n",
    "                   2:'Codon',\n",
    "                   3:'AminoAcid', \n",
    "                   4:'Resistance'}\n",
    "         )"
   ]
  },
  {
   "cell_type": "code",
   "execution_count": 115,
   "metadata": {},
   "outputs": [],
   "source": [
    "df = df.drop('Resistance', 1)"
   ]
  },
  {
   "cell_type": "code",
   "execution_count": 116,
   "metadata": {},
   "outputs": [
    {
     "data": {
      "text/html": [
       "<div>\n",
       "<style scoped>\n",
       "    .dataframe tbody tr th:only-of-type {\n",
       "        vertical-align: middle;\n",
       "    }\n",
       "\n",
       "    .dataframe tbody tr th {\n",
       "        vertical-align: top;\n",
       "    }\n",
       "\n",
       "    .dataframe thead th {\n",
       "        text-align: right;\n",
       "    }\n",
       "</style>\n",
       "<table border=\"1\" class=\"dataframe\">\n",
       "  <thead>\n",
       "    <tr style=\"text-align: right;\">\n",
       "      <th></th>\n",
       "      <th>Genotype</th>\n",
       "      <th>Position</th>\n",
       "      <th>Codon</th>\n",
       "      <th>AminoAcid</th>\n",
       "    </tr>\n",
       "  </thead>\n",
       "  <tbody>\n",
       "    <tr>\n",
       "      <th>0</th>\n",
       "      <td>1b</td>\n",
       "      <td>28</td>\n",
       "      <td>CTG</td>\n",
       "      <td>L</td>\n",
       "    </tr>\n",
       "    <tr>\n",
       "      <th>1</th>\n",
       "      <td>1b</td>\n",
       "      <td>29</td>\n",
       "      <td>CCA</td>\n",
       "      <td>P</td>\n",
       "    </tr>\n",
       "    <tr>\n",
       "      <th>2</th>\n",
       "      <td>1b</td>\n",
       "      <td>30</td>\n",
       "      <td>CGG</td>\n",
       "      <td>R</td>\n",
       "    </tr>\n",
       "    <tr>\n",
       "      <th>3</th>\n",
       "      <td>1b</td>\n",
       "      <td>31</td>\n",
       "      <td>TTG</td>\n",
       "      <td>L</td>\n",
       "    </tr>\n",
       "    <tr>\n",
       "      <th>4</th>\n",
       "      <td>1b</td>\n",
       "      <td>32</td>\n",
       "      <td>CCG</td>\n",
       "      <td>P</td>\n",
       "    </tr>\n",
       "    <tr>\n",
       "      <th>5</th>\n",
       "      <td>1b</td>\n",
       "      <td>58</td>\n",
       "      <td>CCA</td>\n",
       "      <td>P</td>\n",
       "    </tr>\n",
       "    <tr>\n",
       "      <th>6</th>\n",
       "      <td>1b</td>\n",
       "      <td>92</td>\n",
       "      <td>GCG</td>\n",
       "      <td>A</td>\n",
       "    </tr>\n",
       "    <tr>\n",
       "      <th>7</th>\n",
       "      <td>1b</td>\n",
       "      <td>93</td>\n",
       "      <td>TAC</td>\n",
       "      <td>Y</td>\n",
       "    </tr>\n",
       "  </tbody>\n",
       "</table>\n",
       "</div>"
      ],
      "text/plain": [
       "  Genotype  Position Codon AminoAcid\n",
       "0       1b        28   CTG         L\n",
       "1       1b        29   CCA         P\n",
       "2       1b        30   CGG         R\n",
       "3       1b        31   TTG         L\n",
       "4       1b        32   CCG         P\n",
       "5       1b        58   CCA         P\n",
       "6       1b        92   GCG         A\n",
       "7       1b        93   TAC         Y"
      ]
     },
     "execution_count": 116,
     "metadata": {},
     "output_type": "execute_result"
    }
   ],
   "source": [
    "df"
   ]
  },
  {
   "cell_type": "code",
   "execution_count": null,
   "metadata": {},
   "outputs": [],
   "source": []
  },
  {
   "cell_type": "code",
   "execution_count": null,
   "metadata": {},
   "outputs": [],
   "source": []
  }
 ],
 "metadata": {
  "kernelspec": {
   "display_name": "Python 3",
   "language": "python",
   "name": "python3"
  },
  "language_info": {
   "codemirror_mode": {
    "name": "ipython",
    "version": 3
   },
   "file_extension": ".py",
   "mimetype": "text/x-python",
   "name": "python",
   "nbconvert_exporter": "python",
   "pygments_lexer": "ipython3",
   "version": "3.7.3"
  }
 },
 "nbformat": 4,
 "nbformat_minor": 4
}
