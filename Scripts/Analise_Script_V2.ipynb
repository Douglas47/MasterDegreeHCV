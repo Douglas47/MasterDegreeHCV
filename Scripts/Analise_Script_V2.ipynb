{
 "cells": [
  {
   "cell_type": "markdown",
   "metadata": {},
   "source": [
    "#### Libraries"
   ]
  },
  {
   "cell_type": "code",
   "execution_count": 1,
   "metadata": {},
   "outputs": [],
   "source": [
    "import Aux_Functions as auxfunctions"
   ]
  },
  {
   "cell_type": "markdown",
   "metadata": {},
   "source": [
    "#### Open the patient file"
   ]
  },
  {
   "cell_type": "code",
   "execution_count": 2,
   "metadata": {},
   "outputs": [],
   "source": [
    "paciente = open(\"../Outputs/patient_info\")"
   ]
  },
  {
   "cell_type": "markdown",
   "metadata": {},
   "source": [
    "#### List of all Genotypes Availables"
   ]
  },
  {
   "cell_type": "code",
   "execution_count": 3,
   "metadata": {},
   "outputs": [],
   "source": [
    "Genotypes = {\"1a\": \"Frequência_Genótipo 1a\", \"1b\":\"Frequência_Genótipo 1b\", \"3\":\"Frequência_Genótipo 3\"}"
   ]
  },
  {
   "cell_type": "markdown",
   "metadata": {},
   "source": [
    "Patient information list"
   ]
  },
  {
   "cell_type": "code",
   "execution_count": 4,
   "metadata": {},
   "outputs": [],
   "source": [
    "paciente_info = []"
   ]
  },
  {
   "cell_type": "markdown",
   "metadata": {},
   "source": [
    "#### Convert the patient data - String to List of Strings"
   ]
  },
  {
   "cell_type": "code",
   "execution_count": 5,
   "metadata": {},
   "outputs": [],
   "source": [
    "for info in paciente:\n",
    "   info_clean = info.replace(\"\\'\",\"\")\n",
    "   info_clean = info_clean.replace(\"\\n\", \"\")\n",
    "   paciente_info.append(info_clean.split(\",\"))"
   ]
  },
  {
   "cell_type": "markdown",
   "metadata": {},
   "source": [
    "#### Here the user have to input the Patient Genotype"
   ]
  },
  {
   "cell_type": "markdown",
   "metadata": {},
   "source": [
    "Mudar talvez?"
   ]
  },
  {
   "cell_type": "code",
   "execution_count": 6,
   "metadata": {},
   "outputs": [
    {
     "name": "stdin",
     "output_type": "stream",
     "text": [
      "Genótipo (1a, 1b ou 3): 1a\n"
     ]
    }
   ],
   "source": [
    "while True:\n",
    "   p_genotype = input(\"Genótipo (1a, 1b ou 3):\")\n",
    "   if p_genotype not in Genotypes:\n",
    "      print (\"Genótipo não identificado\")\n",
    "   else:\n",
    "      break"
   ]
  },
  {
   "cell_type": "markdown",
   "metadata": {},
   "source": [
    "#### Opens the population file for the input genotype"
   ]
  },
  {
   "cell_type": "code",
   "execution_count": 7,
   "metadata": {},
   "outputs": [
    {
     "name": "stdout",
     "output_type": "stream",
     "text": [
      "28\n",
      "[' ATG', ' 1301', ' 0.9496350364963504']\n",
      "[' ATA', ' 1', ' 0.00072992700729927']\n",
      "[' GTG', ' 65', ' 0.04744525547445255']\n",
      "[' ACG', ' 3', ' 0.0021897810218978104']\n",
      "29\n",
      "[' CCA', ' 1219', ' 0.8897810218978102']\n",
      "[' CCG', ' 138', ' 0.10072992700729927']\n",
      "[' CCC', ' 11', ' 0.008029197080291971']\n",
      "[' CCT', ' 2', ' 0.00145985401459854']\n",
      "30\n",
      "[' CAA', ' 1118', ' 0.8160583941605839']\n",
      "[' CAG', ' 187', ' 0.1364963503649635']\n",
      "[' CAC', ' 27', ' 0.01970802919708029']\n",
      "[' CGA', ' 1', ' 0.00072992700729927']\n",
      "[' CTC', ' 37', ' 0.027007299270072994']\n",
      "31\n",
      "[' CTG', ' 1286', ' 0.9386861313868613']\n",
      "[' CTA', ' 25', ' 0.01824817518248175']\n",
      "[' ATG', ' 5', ' 0.0036496350364963502']\n",
      "[' TTG', ' 37', ' 0.027007299270072994']\n",
      "[' CTC', ' 15', ' 0.010948905109489052']\n",
      "[' CTT', ' 2', ' 0.00145985401459854']\n",
      "32\n",
      "[' CCT', ' 1180', ' 0.8613138686131386']\n",
      "[' CCC', ' 141', ' 0.10291970802919707']\n",
      "[' TCT', ' 1', ' 0.00072992700729927']\n",
      "[' CCA', ' 41', ' 0.029927007299270073']\n",
      "[' CCG', ' 7', ' 0.0051094890510948905']\n",
      "58\n",
      "[' CAC', ' 1269', ' 0.9262773722627737']\n",
      "[' CAT', ' 69', ' 0.050364963503649635']\n",
      "[' CCA', ' 2', ' 0.00145985401459854']\n",
      "[' AAT', ' 2', ' 0.00145985401459854']\n",
      "[' CCC', ' 12', ' 0.008759124087591242']\n",
      "[' TAC', ' 8', ' 0.00583941605839416']\n",
      "[' TGC', ' 2', ' 0.00145985401459854']\n",
      "[' CCT', ' 2', ' 0.00145985401459854']\n",
      "[' CGC', ' 1', ' 0.00072992700729927']\n",
      "[' CAG', ' 1', ' 0.00072992700729927']\n",
      "[' GAC', ' 2', ' 0.00145985401459854']\n",
      "92\n",
      "[' GCC', ' 1317', ' 0.9613138686131387']\n",
      "[' ACC', ' 1', ' 0.00072992700729927']\n",
      "[' GCA', ' 3', ' 0.0021897810218978104']\n",
      "[' CCT', ' 9', ' 0.006569343065693431']\n",
      "[' GCT', ' 39', ' 0.02846715328467153']\n",
      "[' CCC', ' 1', ' 0.00072992700729927']\n",
      "93\n",
      "[' TAC', ' 1286', ' 0.9386861313868613']\n",
      "[' CAC', ' 24', ' 0.017518248175182483']\n",
      "[' TAT', ' 53', ' 0.03868613138686131']\n",
      "[' TGC', ' 6', ' 0.004379562043795621']\n",
      "[' CAT', ' 1', ' 0.00072992700729927']\n",
      "-------------------------------------------\n",
      "[['3', ' 28', ' CTG', ' L', ' False'], ['3', ' 29', ' CCA', ' P', ' False'], ['3', ' 30', ' CGG', ' R', ' False'], ['3', ' 31', ' TTG', ' L', ' False'], ['3', ' 32', ' CCG', ' P', ' False'], ['3', ' 58', ' CCA', ' P', ' False'], ['3', ' 92', ' GCG', ' A', ' False'], ['3', ' 93', ' TAC', ' Y', ' False']]\n",
      "-----------------\n",
      "{' 28': [' CTG', ' L', ' False'], ' 29': [' CCA', ' P', ' False'], ' 30': [' CGG', ' R', ' False'], ' 31': [' TTG', ' L', ' False'], ' 32': [' CCG', ' P', ' False'], ' 58': [' CCA', ' P', ' False'], ' 92': [' GCG', ' A', ' False'], ' 93': [' TAC', ' Y', ' False']}\n",
      "-----------------\n",
      "*****************\n",
      " 28\n",
      "[' CTG', ' L', ' False']\n"
     ]
    },
    {
     "ename": "KeyError",
     "evalue": "' 28'",
     "output_type": "error",
     "traceback": [
      "\u001b[1;31m---------------------------------------------------------------------------\u001b[0m",
      "\u001b[1;31mKeyError\u001b[0m                                  Traceback (most recent call last)",
      "\u001b[1;32m<ipython-input-7-18e7709582fe>\u001b[0m in \u001b[0;36m<module>\u001b[1;34m\u001b[0m\n\u001b[0;32m     27\u001b[0m     \u001b[0mprint\u001b[0m\u001b[1;33m(\u001b[0m\u001b[0mposition\u001b[0m\u001b[1;33m)\u001b[0m\u001b[1;33m\u001b[0m\u001b[1;33m\u001b[0m\u001b[0m\n\u001b[0;32m     28\u001b[0m     \u001b[0mprint\u001b[0m\u001b[1;33m(\u001b[0m\u001b[0mpaciente_dict\u001b[0m\u001b[1;33m[\u001b[0m\u001b[0mposition\u001b[0m\u001b[1;33m]\u001b[0m\u001b[1;33m)\u001b[0m\u001b[1;33m\u001b[0m\u001b[1;33m\u001b[0m\u001b[0m\n\u001b[1;32m---> 29\u001b[1;33m     \u001b[0mprint\u001b[0m\u001b[1;33m(\u001b[0m\u001b[0mPop_positions\u001b[0m\u001b[1;33m[\u001b[0m\u001b[0mposition\u001b[0m\u001b[1;33m]\u001b[0m\u001b[1;33m)\u001b[0m\u001b[1;33m\u001b[0m\u001b[1;33m\u001b[0m\u001b[0m\n\u001b[0m",
      "\u001b[1;31mKeyError\u001b[0m: ' 28'"
     ]
    }
   ],
   "source": [
    "population = open(\"../Outputs/\" + Genotypes[p_genotype])\n",
    "Pop_positions = {}\n",
    "for x in population:\n",
    "    x = x.replace(\"\\n\",\"\")\n",
    "    x = x.replace(\"Position \", \"\")   \n",
    "    x = x.split(\",\")\n",
    "    if x[0] not in Pop_positions:\n",
    "        Pop_acumulador = []\n",
    "    Pop_acumulador.append(x[1:])\n",
    "    Pop_positions[x[0]] = Pop_acumulador\n",
    "for data in Pop_positions.items():\n",
    "    \"\"\" Position \"\"\"\n",
    "    print(data[0])\n",
    "    \"\"\" Codon data \"\"\"\n",
    "    for codon_data in data[1]:\n",
    "        print(codon_data)\n",
    "print(\"-------------------------------------------\")\n",
    "print(paciente_info)\n",
    "print(\"-----------------\")\n",
    "paciente_dict = {}\n",
    "for position in paciente_info:\n",
    "    paciente_dict[position[1]] = position[2:]\n",
    "print(paciente_dict)\n",
    "print(\"-----------------\")\n",
    "for position in paciente_dict:\n",
    "    print(\"*****************\")\n",
    "    print(position)\n",
    "    print(paciente_dict[position])\n",
    "    print(Pop_positions[position])"
   ]
  },
  {
   "cell_type": "code",
   "execution_count": null,
   "metadata": {},
   "outputs": [],
   "source": [
    "paciente_dict"
   ]
  },
  {
   "cell_type": "code",
   "execution_count": null,
   "metadata": {},
   "outputs": [],
   "source": [
    "paciente_info"
   ]
  }
 ],
 "metadata": {
  "kernelspec": {
   "display_name": "Python 3",
   "language": "python",
   "name": "python3"
  },
  "language_info": {
   "codemirror_mode": {
    "name": "ipython",
    "version": 3
   },
   "file_extension": ".py",
   "mimetype": "text/x-python",
   "name": "python",
   "nbconvert_exporter": "python",
   "pygments_lexer": "ipython3",
   "version": "3.7.4"
  }
 },
 "nbformat": 4,
 "nbformat_minor": 4
}
