{
 "cells": [
  {
   "cell_type": "code",
   "execution_count": 1,
   "metadata": {},
   "outputs": [],
   "source": [
    "import pandas as pd"
   ]
  },
  {
   "cell_type": "markdown",
   "metadata": {},
   "source": [
    "## Global Variables"
   ]
  },
  {
   "cell_type": "markdown",
   "metadata": {},
   "source": [
    "#### Nucleotides"
   ]
  },
  {
   "cell_type": "code",
   "execution_count": null,
   "metadata": {},
   "outputs": [],
   "source": [
    "Nucleotides = [\"A\", \"T\", \"C\" , \"G\"]"
   ]
  },
  {
   "cell_type": "markdown",
   "metadata": {},
   "source": [
    "#### Resistance Table"
   ]
  },
  {
   "cell_type": "code",
   "execution_count": null,
   "metadata": {},
   "outputs": [],
   "source": [
    "Resistance = collections.OrderedDict()\n",
    "Resistance[28] = ['T','V','A','S']\n",
    "Resistance[29] = ['S'],\n",
    "Resistance[30] = ['E','H','R','D','G','K','T','Q','P','S'], \n",
    "Resistance[31] = ['M','I','V','F'],\n",
    "Resistance[32] = ['L'],\n",
    "Resistance[58] = ['D','S'],\n",
    "Resistance[92] = ['K'],\n",
    "Resistance[93] = ['H','N','C','S']"
   ]
  },
  {
   "cell_type": "markdown",
   "metadata": {},
   "source": [
    "#### Genetic Code"
   ]
  },
  {
   "cell_type": "code",
   "execution_count": null,
   "metadata": {},
   "outputs": [],
   "source": [
    "codontable = {\n",
    "    'ATA':'I', 'ATC':'I', 'ATT':'I', 'ATG':'M',\n",
    "    'ACA':'T', 'ACC':'T', 'ACG':'T', 'ACT':'T',\n",
    "    'AAC':'N', 'AAT':'N', 'AAA':'K', 'AAG':'K',\n",
    "    'AGC':'S', 'AGT':'S', 'AGA':'R', 'AGG':'R',\n",
    "    'CTA':'L', 'CTC':'L', 'CTG':'L', 'CTT':'L',\n",
    "    'CCA':'P', 'CCC':'P', 'CCG':'P', 'CCT':'P',\n",
    "    'CAC':'H', 'CAT':'H', 'CAA':'Q', 'CAG':'Q',\n",
    "    'CGA':'R', 'CGC':'R', 'CGG':'R', 'CGT':'R',\n",
    "    'GTA':'V', 'GTC':'V', 'GTG':'V', 'GTT':'V',\n",
    "    'GCA':'A', 'GCC':'A', 'GCG':'A', 'GCT':'A',\n",
    "    'GAC':'D', 'GAT':'D', 'GAA':'E', 'GAG':'E',\n",
    "    'GGA':'G', 'GGC':'G', 'GGG':'G', 'GGT':'G',\n",
    "    'TCA':'S', 'TCC':'S', 'TCG':'S', 'TCT':'S',\n",
    "    'TTC':'F', 'TTT':'F', 'TTA':'L', 'TTG':'L',\n",
    "    'TAC':'Y', 'TAT':'Y', 'TAA':'_', 'TAG':'_',\n",
    "    'TGC':'C', 'TGT':'C', 'TGA':'_', 'TGG':'W',\n",
    "    }"
   ]
  },
  {
   "cell_type": "markdown",
   "metadata": {},
   "source": [
    "#### Codon Usage"
   ]
  },
  {
   "cell_type": "code",
   "execution_count": 17,
   "metadata": {},
   "outputs": [],
   "source": [
    "codon_usage_table = pd.read_csv(\"../Data/Codon_Usage.csv\", delimiter = \";\")"
   ]
  },
  {
   "cell_type": "code",
   "execution_count": 18,
   "metadata": {},
   "outputs": [],
   "source": [
    "codon_usage_g1 = dict(zip(list(codon_usage_table['Codon']), list(codon_usage_table['HCV-G1'])))"
   ]
  },
  {
   "cell_type": "code",
   "execution_count": 19,
   "metadata": {},
   "outputs": [],
   "source": [
    "codon_usage_g3 = dict(zip(list(codon_usage_table['Codon']), list(codon_usage_table['HCV-G3'])))"
   ]
  },
  {
   "cell_type": "markdown",
   "metadata": {},
   "source": [
    " #### Drugs"
   ]
  },
  {
   "cell_type": "code",
   "execution_count": 2,
   "metadata": {},
   "outputs": [],
   "source": [
    "drugs_3letters = {\n",
    "    \"ASV\":\"asunaprevir\",\n",
    "    \"DCV\":\"daclatasvir\",\n",
    "    \"DSV\":\"dasabuvir\",\n",
    "    \"EBR\":\"elbasvir\",\n",
    "    \"GZR\":\"grazoprevir\",\n",
    "    \"LDV\":\"ledipasvir\",\n",
    "    \"NSV\":\"nebusvir\",\n",
    "    \"OMV\":\"ombitasvir\",\n",
    "    \"PIB\":\"pibrentasvir\",\n",
    "    \"PTV\":\"paritaprevir\",\n",
    "    \"SOF\":\"sofosbuvir\",\n",
    "    \"VEL\":\"velpatasvir\",\n",
    "    \"VOX\":\"voxilaprevir\"\n",
    "}"
   ]
  },
  {
   "cell_type": "markdown",
   "metadata": {},
   "source": [
    "## Functions"
   ]
  },
  {
   "cell_type": "markdown",
   "metadata": {},
   "source": [
    "### Function to generate all intermediaries codons of a pair "
   ]
  },
  {
   "cell_type": "code",
   "execution_count": null,
   "metadata": {},
   "outputs": [],
   "source": [
    "def intermediaries(codon, rcodon):\n",
    "   \"\"\" Generator of Intermediaries \"\"\"\n",
    "   codon = codon.upper()\n",
    "   rcodon = rcodon.upper()\n",
    "   codon_inter = []\n",
    "   codon_inter.append(codon[:2] + rcodon[2])\n",
    "   codon_inter.append(codon[0] + rcodon[1:])\n",
    "   codon_inter.append(rcodon[0] + codon[1:])\n",
    "   codon_inter.append(rcodon[:2] + codon[2])\n",
    "   codon_inter.append(codon[0] + rcodon[1] + codon[2])\n",
    "   codon_inter.append(rcodon[0] + codon[1] + rcodon[2])\n",
    "   codon_inter.append(rcodon[:])\n",
    "   return(codon_inter)   "
   ]
  },
  {
   "cell_type": "markdown",
   "metadata": {},
   "source": [
    "#### Genetic Barrier Function"
   ]
  },
  {
   "cell_type": "code",
   "execution_count": null,
   "metadata": {},
   "outputs": [],
   "source": [
    "def genetic_barrier(codon):\n",
    "    Nucleotides = [\"A\", \"T\", \"C\" , \"G\"]\n",
    "    codon = codon.upper()\n",
    "    List_1 = []\n",
    "    \"\"\"List all possible codons by changing the first nucleotide \"\"\"\n",
    "    List_2 = []\n",
    "    \"\"\"List all possible codons by changing the second nucleotide\"\"\"\n",
    "    List_3 = []\n",
    "    \"\"\"List all possible codons by changing the third nucleotide\"\"\"\n",
    "    Scores_1 = {}\n",
    "    \"\"\"\n",
    "    Scores of the alterations in the first nucleotide\n",
    "    \n",
    "    Key = Reference Nucleotide in the first position + 0 (the position) + Altered Nucleotide in the first position\n",
    "    \n",
    "    Example:  'A0T': 2.5\n",
    "\n",
    "    Value = Genetic Barrier until this step\n",
    "\n",
    "    \"\"\"\n",
    "    Scores_2 = {}\n",
    "    \"\"\"\n",
    "    Added alteration score in the first and second positions\n",
    "    \n",
    "    Key = Reference Nucleotide in the first position + 0 (position) + Altered Nucleotide in the first position\n",
    "    + Reference Nucleotide in the second position + 1 (position) + Altered Nucleotide in the second position\n",
    "    \n",
    "    Example: 'A0CC1T': 3.5\n",
    "\n",
    "    Value = Genetic Barrier until this step\n",
    "\n",
    "    \"\"\"\n",
    "    Scores_3 = {}\n",
    "\n",
    "    \"\"\"\n",
    "    All the 64 possible altered codons from the reference codon\n",
    "\n",
    "    Key: Altered Nucleotide\n",
    "\n",
    "    Value: Genetic Barrier Score\n",
    "\n",
    "    This is the dictionary returned from the function.\n",
    "\n",
    "    \"\"\"\n",
    "    \n",
    "    \"\"\"Substitution of the First Nucleotide\"\"\"\n",
    "    \n",
    "    if codon[0] == \"A\":\n",
    "        \"\"\" The first step is to know what Nucleotide is in the position\"\"\"\n",
    "        for N in Nucleotides:\n",
    "            score = 0\n",
    "            codon_0 = (codon[0].replace(codon[0], N)) + codon[1:]\n",
    "            \"\"\"Here, the algorithm replace the nucleotide with all the 4 DNA nucleotides, including the same one\"\"\"\n",
    "            List_1.append(codon_0)\n",
    "            if codon_0[0] == \"T\" or codon_0[0] == \"C\":\n",
    "                \"\"\"Then, a score is give based on the nature of the substitution, Transition or Transversion. For the same one the score remains the same.\"\"\"\n",
    "                score += 2.5\n",
    "            elif codon_0[0] == \"G\":\n",
    "                score += 1\n",
    "            Scores_1[codon[0] + \"%d\" % 0 + codon_0[0]] = score\n",
    "            \"\"\"The respective score is stored with the altered codon in a dictionary | altered codon : score\"\"\"\n",
    "            \"\"\"The process repeats for all the 4 nucleotides possibles in the 3 positions, resulting in 64 possibilities\"\"\"\n",
    "    elif codon[0] == \"T\":\n",
    "        for N in Nucleotides:\n",
    "            score = 0\n",
    "            codon_0 = (codon[0].replace(codon[0], N)) + codon[1:]\n",
    "            List_1.append(codon_0)\n",
    "            if codon_0[0] == \"A\" or codon_0[0] == \"G\":\n",
    "                score += 2.5\n",
    "            elif codon_0[0] == \"C\":\n",
    "                score += 1\n",
    "            Scores_1[codon[0] + \"%d\" % 0 + codon_0[0]] = score\n",
    "    elif codon[0] == \"C\":\n",
    "        for N in Nucleotides:\n",
    "            score = 0\n",
    "            codon_0 = (codon[0].replace(codon[0], N)) + codon[1:]\n",
    "            List_1.append(codon_0)\n",
    "            if codon_0[0] == \"A\" or codon_0[0] == \"G\":\n",
    "                score += 2.5\n",
    "            elif codon_0[0] == \"T\":\n",
    "                score += 1\n",
    "            Scores_1[codon[0] + \"%d\" % 0 + codon_0[0]] = score\n",
    "    elif codon[0] == \"G\":\n",
    "        for N in Nucleotides:\n",
    "            score = 0\n",
    "            codon_0 = (codon[0].replace(codon[0], N)) + codon[1:]\n",
    "            List_1.append(codon_0)\n",
    "            if codon_0[0] == \"T\" or codon_0[0] == \"C\":\n",
    "                score += 2.5\n",
    "            elif codon_0[0] == \"A\":\n",
    "                score += 1\n",
    "            Scores_1[codon[0] + \"%d\" % 0 + codon_0[0]] = score\n",
    "\n",
    "    \"\"\"Substitution of the Second Nucleotide\"\"\"\n",
    "            \n",
    "    for C in List_1:               \n",
    "            if C[1] == \"A\":\n",
    "                for N in Nucleotides:\n",
    "                    codon_1 = C[0] +(C[1].replace(C[1], N)) + C[2]\n",
    "                    score_2 = Scores_1[codon[0] + \"%d\" % 0 + C[0]]\n",
    "                    List_2.append(codon_1)\n",
    "                    if codon_1[1] == \"T\" or codon_1[1] == \"C\":\n",
    "                        score_2 += 2.5 \n",
    "                    elif codon_1[1] == \"G\":\n",
    "                        score_2 += 1\n",
    "                    Scores_2[codon[0] + \"%d\" % 0 + C[0] + codon[1] + \"%d\" % 1 + codon_1[1]] = score_2\n",
    "            if C[1] == \"T\":\n",
    "                for N in Nucleotides:\n",
    "                    codon_1 = C[0] +(C[1].replace(C[1], N)) + C[2]\n",
    "                    score_2 = Scores_1[codon[0] + \"%d\" % 0 + C[0]]\n",
    "                    List_2.append(codon_1)\n",
    "                    if codon_1[1] == \"A\" or codon_1[1] == \"G\":\n",
    "                        score_2 += 2.5 \n",
    "                    elif codon_1[1] == \"C\":\n",
    "                        score_2 += 1\n",
    "                    Scores_2[codon[0] + \"%d\" % 0 + C[0] + codon[1] + \"%d\" % 1 + codon_1[1]] = score_2\n",
    "            if C[1] == \"C\":\n",
    "                for N in Nucleotides:\n",
    "                    codon_1 = C[0] +(C[1].replace(C[1], N)) + C[2]\n",
    "                    score_2 = Scores_1[codon[0] + \"%d\" % 0 + C[0]]\n",
    "                    List_2.append(codon_1)\n",
    "                    if codon_1[1] == \"A\" or codon_1[1] == \"G\":\n",
    "                        score_2 += 2.5 \n",
    "                    elif codon_1[1] == \"T\":\n",
    "                        score_2 += 1\n",
    "                    Scores_2[codon[0] + \"%d\" % 0 + C[0] + codon[1] + \"%d\" % 1 + codon_1[1]] = score_2\n",
    "            if C[1] == \"G\":\n",
    "                for N in Nucleotides:\n",
    "                    codon_1 = C[0] +(C[1].replace(C[1], N)) + C[2]\n",
    "                    score_2 = Scores_1[codon[0] + \"%d\" % 0 + C[0]]\n",
    "                    List_2.append(codon_1)\n",
    "                    if codon_1[1] == \"T\" or codon_1[1] == \"C\":\n",
    "                        score_2 += 2.5 \n",
    "                    elif codon_1[1] == \"A\":\n",
    "                        score_2 += 1\n",
    "                    Scores_2[codon[0] + \"%d\" % 0 + C[0] + codon[1] + \"%d\" % 1 + codon_1[1]] = score_2\n",
    "                    \n",
    "    \"\"\"Substitution of the Third Nucleotide\"\"\"\n",
    "                    \n",
    "    for C in List_2:\n",
    "            if C[2] == \"A\":\n",
    "                for N in Nucleotides:\n",
    "                    codon_2 = C[0:2] +(C[2].replace(C[2], N))\n",
    "                    score_3 = Scores_2[codon[0] + \"%d\" % 0 + C[0] + codon[1] + \"%d\" % 1 + C[1]]\n",
    "                    List_3.append(codon_2)\n",
    "                    if codon_2[2] == \"T\" or codon_2[2] == \"C\":\n",
    "                        score_3 += 2.5\n",
    "                    elif codon_2[2] == \"G\":\n",
    "                        score_3 += 1\n",
    "                    Scores_3[codon_2] = score_3\n",
    "            elif C[2] == \"T\":\n",
    "                for N in Nucleotides:\n",
    "                    codon_2 = C[0:2] +(C[2].replace(C[2], N))\n",
    "                    score_3 = Scores_2[codon[0] + \"%d\" % 0 + C[0] + codon[1] + \"%d\" % 1 + C[1]]\n",
    "                    List_3.append(codon_2)\n",
    "                    if codon_2[2] == \"A\" or codon_2[2] == \"G\":\n",
    "                        score_3 += 2.5\n",
    "                    elif codon_2[2] == \"C\":\n",
    "                        score_3 += 1\n",
    "                    Scores_3[codon_2] = score_3\n",
    "            elif C[2] == \"C\":\n",
    "                for N in Nucleotides:\n",
    "                    codon_2 = C[0:2] +(C[2].replace(C[2], N))\n",
    "                    score_3 = Scores_2[codon[0] + \"%d\" % 0 + C[0] + codon[1] + \"%d\" % 1 + C[1]]\n",
    "                    List_3.append(codon_2)\n",
    "                    if codon_2[2] == \"A\" or codon_2[2] == \"G\":\n",
    "                        score_3 += 2.5\n",
    "                    elif codon_2[2] == \"T\":\n",
    "                        score_3 += 1\n",
    "                    Scores_3[codon_2] = score_3\n",
    "            elif C[2] == \"G\":\n",
    "                for N in Nucleotides:\n",
    "                    codon_2 = C[0:2] +(C[2].replace(C[2], N))\n",
    "                    score_3 = Scores_2[codon[0] + \"%d\" % 0 + C[0] + codon[1] + \"%d\" % 1 + C[1]]\n",
    "                    List_3.append(codon_2)\n",
    "                    if codon_2[2] == \"T\" or codon_2[2] == \"C\":\n",
    "                        score_3 += 2.5\n",
    "                    elif codon_2[2] == \"A\":\n",
    "                        score_3 += 1\n",
    "                    Scores_3[codon_2] = score_3\n",
    "    return (Scores_3)\n",
    "    \"\"\"This is the dictionary that will be returned from the function\"\"\""
   ]
  },
  {
   "cell_type": "markdown",
   "metadata": {},
   "source": [
    "#### Dictionary for not having to calculate every time\n",
    "Talvez um arquivo seja melhor(?)"
   ]
  },
  {
   "cell_type": "code",
   "execution_count": null,
   "metadata": {},
   "outputs": [],
   "source": [
    "Genetic_Barrier_Scores = {}\n",
    "for x in Nucleotides:\n",
    "    for y in Nucleotides:\n",
    "        for z in Nucleotides:\n",
    "           Genetic_Barrier_Scores[x+y+z] = genetic_barrier(x+y+z)"
   ]
  },
  {
   "cell_type": "markdown",
   "metadata": {},
   "source": [
    "#### Genetic Barrier Calculator \n",
    "\n",
    "Função que consulta o dicionário e traz o valor de barreira genética de dois códons"
   ]
  },
  {
   "cell_type": "code",
   "execution_count": null,
   "metadata": {},
   "outputs": [],
   "source": [
    "def Genetic_Barrier_Calc(first_codon,second_codon):\n",
    "    first_codon = first_codon.upper()\n",
    "    second_codon = second_codon.upper()\n",
    "    try:\n",
    "        print (\"Genetic Barrier: %s -> %s = %.1f\" % (first_codon,second_codon,Genetic_Barrier_Scores[first_codon][second_codon]))\n",
    "    except:\n",
    "        print (\"Invalid codons!\")\n",
    "        \n",
    "\"\"\" This function prints in a more organized way the informations about the sequences \"\"\""
   ]
  },
  {
   "cell_type": "code",
   "execution_count": null,
   "metadata": {},
   "outputs": [],
   "source": [
    "def List_Info_Seqs(Data_Seq):\n",
    "    Frequencies = collections.OrderedDict()\n",
    "    for Sequence in Data_Seq:\n",
    "        print(\"Sequence: %s \" % Sequence[0])\n",
    "        for info_seq in Sequence[1]:\n",
    "            print(\"Position: %s \" % info_seq[0])\n",
    "            if info_seq[1] not in Frequencies:\n",
    "                Frequencies[info_seq[1]] = 0\n",
    "            Frequencies[info_seq[1]] += 1\n",
    "            print(\"codon: %s AminoAcid: %s Resistance: %r\" % (info_seq[1],info_seq[2],info_seq[3]))"
   ]
  }
 ],
 "metadata": {
  "kernelspec": {
   "display_name": "Python 3",
   "language": "python",
   "name": "python3"
  },
  "language_info": {
   "codemirror_mode": {
    "name": "ipython",
    "version": 3
   },
   "file_extension": ".py",
   "mimetype": "text/x-python",
   "name": "python",
   "nbconvert_exporter": "python",
   "pygments_lexer": "ipython3",
   "version": "3.7.3"
  }
 },
 "nbformat": 4,
 "nbformat_minor": 2
}
