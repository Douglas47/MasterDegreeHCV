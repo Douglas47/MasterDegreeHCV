{
 "cells": [
  {
   "cell_type": "markdown",
   "metadata": {},
   "source": [
    "#### Adicionando os paths"
   ]
  },
  {
   "cell_type": "code",
   "execution_count": 1,
   "metadata": {},
   "outputs": [],
   "source": [
    "import sys\n",
    "sys.path.append('../')\n",
    "sys.path.append('../Scripts/')"
   ]
  },
  {
   "cell_type": "markdown",
   "metadata": {},
   "source": [
    "#### Importando bibliotecas"
   ]
  },
  {
   "cell_type": "code",
   "execution_count": 2,
   "metadata": {},
   "outputs": [],
   "source": [
    "import pandas as pd\n",
    "from Global_Variables import *\n",
    "import Aux_Functions as af "
   ]
  },
  {
   "cell_type": "code",
   "execution_count": 3,
   "metadata": {},
   "outputs": [],
   "source": [
    "fase3 = pd.read_csv(\"../Outputs/Tabela_Fase_03.csv\", sep=\";\")\n",
    "dataset_global = pd.read_csv(\"../Outputs/Prevalence_CodonUsage.csv\", sep=\";\")"
   ]
  },
  {
   "cell_type": "code",
   "execution_count": 4,
   "metadata": {},
   "outputs": [],
   "source": [
    "def add_features(row):\n",
    "\n",
    "\n",
    "    for item in Codon_Resistente_List:\n",
    "        # Criando a linha de barreira genética\n",
    "        gb = af.genetic_barrier(row[item],row['Codon'])\n",
    "        column_name = \"Barreira_Genetica_\" + item[-2:]\n",
    "        row[column_name] = gb\n",
    "        # Criando a linha de frequencia\n",
    "        df = dataset_global[(dataset_global['Genotype'] == row['Genotype']) \n",
    "                             & (dataset_global['Position'] == row['Position']) \n",
    "                             & (dataset_global['Codon'] == row[item])]\n",
    "        if df.shape[0] > 0:\n",
    "            # freq \n",
    "            freq = df['Prevalence'].values[0]\n",
    "            column_name = \"Prevalencia_\" + item[-2:]\n",
    "            row[column_name] = freq\n",
    "            \n",
    "            # codon_usage\n",
    "            codon_usage = df['Codon_Usage'].values[0]\n",
    "            column_name = \"Codon_Usage_\" + item[-2:]\n",
    "            row[column_name] = codon_usage\n",
    "        else:\n",
    "            freq = \"-\"\n",
    "            column_name = \"Prevalencia_\" + item[-2:]\n",
    "            row[column_name] = 0\n",
    "            \n",
    "            codon_usage = \"-\"\n",
    "            column_name = \"Codon_Usage_\" + item[-2:]\n",
    "            row[column_name] = 0\n",
    "        \n",
    "            \n",
    "            \n",
    "    return row"
   ]
  },
  {
   "cell_type": "code",
   "execution_count": 5,
   "metadata": {},
   "outputs": [],
   "source": [
    "modfase3 = fase3.apply(lambda x: add_features(x), axis=1)\n",
    "modfase3 = modfase3.fillna(\"-\") # Not a Number values into 0"
   ]
  },
  {
   "cell_type": "code",
   "execution_count": 7,
   "metadata": {},
   "outputs": [],
   "source": [
    "modfase3.to_csv(\"../Outputs/Tabela_Atributos.csv\", sep=\";\", index=False)"
   ]
  },
  {
   "cell_type": "code",
   "execution_count": null,
   "metadata": {},
   "outputs": [],
   "source": []
  },
  {
   "cell_type": "code",
   "execution_count": null,
   "metadata": {},
   "outputs": [],
   "source": []
  }
 ],
 "metadata": {
  "kernelspec": {
   "display_name": "Python 3",
   "language": "python",
   "name": "python3"
  },
  "language_info": {
   "codemirror_mode": {
    "name": "ipython",
    "version": 3
   },
   "file_extension": ".py",
   "mimetype": "text/x-python",
   "name": "python",
   "nbconvert_exporter": "python",
   "pygments_lexer": "ipython3",
   "version": "3.7.3"
  }
 },
 "nbformat": 4,
 "nbformat_minor": 4
}
