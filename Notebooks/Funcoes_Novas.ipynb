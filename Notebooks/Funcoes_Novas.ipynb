{
 "cells": [
  {
   "cell_type": "markdown",
   "metadata": {},
   "source": [
    "#### Adding paths"
   ]
  },
  {
   "cell_type": "code",
   "execution_count": 18,
   "metadata": {},
   "outputs": [],
   "source": [
    "import sys\n",
    "sys.path.append('../')\n",
    "sys.path.append('../Scripts/')"
   ]
  },
  {
   "cell_type": "markdown",
   "metadata": {},
   "source": [
    "#### Dados mockados"
   ]
  },
  {
   "cell_type": "code",
   "execution_count": 5,
   "metadata": {},
   "outputs": [],
   "source": [
    "positions_list = (28,29,30,31,32,54,92,93) \n",
    "dataset = \"NS5A_1b_06.03.2018.aln\""
   ]
  },
  {
   "cell_type": "markdown",
   "metadata": {},
   "source": [
    "#### Transforma um arquivo fasta em um dicionário\n",
    "key = nome da sequência // value = sequência"
   ]
  },
  {
   "cell_type": "code",
   "execution_count": 6,
   "metadata": {},
   "outputs": [],
   "source": [
    "def fasta_to_dict(file):\n",
    "    fasta_file = open(\"../Data/\" + file)\n",
    "    output_dict = {}\n",
    "    for line in fasta_file:\n",
    "        line = line.replace(\"\\n\",\"\")\n",
    "        if line.startswith(\">\"):\n",
    "            sequence = \"\"\n",
    "            name = line[1:]\n",
    "            name = name.split()\n",
    "            name = name[0]\n",
    "            \"\"\"Acession Number\"\"\"\n",
    "        else:\n",
    "            sequence += line\n",
    "            \"\"\"Sequence\"\"\"\n",
    "        output_dict[name] = sequence\n",
    "    return(output_dict)"
   ]
  },
  {
   "cell_type": "markdown",
   "metadata": {},
   "source": [
    "#### Returna um dicionário com as posições e os codons"
   ]
  },
  {
   "cell_type": "code",
   "execution_count": 7,
   "metadata": {},
   "outputs": [],
   "source": [
    "def sequence_codons(sequence):\n",
    "    codons = {}\n",
    "    for position in positions_list:\n",
    "        codon = sequence[(position*3)-3:(position*3)]\n",
    "        codons[position] = codon\n",
    "    return(codons)"
   ]
  },
  {
   "cell_type": "code",
   "execution_count": 8,
   "metadata": {},
   "outputs": [],
   "source": [
    "teste = fasta_to_dict(dataset)"
   ]
  },
  {
   "cell_type": "code",
   "execution_count": 9,
   "metadata": {},
   "outputs": [
    {
     "data": {
      "text/plain": [
       "{28: 'CTG',\n",
       " 29: 'CCG',\n",
       " 30: 'CGG',\n",
       " 31: 'CTG',\n",
       " 32: 'CCG',\n",
       " 54: 'CAA',\n",
       " 92: 'GCA',\n",
       " 93: 'TAC'}"
      ]
     },
     "execution_count": 9,
     "metadata": {},
     "output_type": "execute_result"
    }
   ],
   "source": [
    "sequence_codons(teste[\"X61596.1\"])"
   ]
  },
  {
   "cell_type": "code",
   "execution_count": null,
   "metadata": {},
   "outputs": [],
   "source": []
  },
  {
   "cell_type": "code",
   "execution_count": null,
   "metadata": {},
   "outputs": [],
   "source": []
  }
 ],
 "metadata": {
  "kernelspec": {
   "display_name": "Python 3",
   "language": "python",
   "name": "python3"
  },
  "language_info": {
   "codemirror_mode": {
    "name": "ipython",
    "version": 3
   },
   "file_extension": ".py",
   "mimetype": "text/x-python",
   "name": "python",
   "nbconvert_exporter": "python",
   "pygments_lexer": "ipython3",
   "version": "3.7.6"
  }
 },
 "nbformat": 4,
 "nbformat_minor": 4
}
