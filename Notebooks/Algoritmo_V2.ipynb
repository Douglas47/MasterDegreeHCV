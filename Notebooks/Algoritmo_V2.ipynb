{
 "cells": [
  {
   "cell_type": "markdown",
   "metadata": {},
   "source": [
    "# MESTRADO - DOUGLAS DE ANDRADE DE ALMEIDA\n",
    "\n",
    "## TÍTULO: ALGORITMO DE PREDIÇÃO DE DESENVOLVIMENTO DE RESISTÊNCIA DO VÍRUS DA HEPATITE C (HCV) AOS ANTIVIRAIS DE AÇÃO DIRETA\n",
    "\n",
    "## FEVEREIRO/2018"
   ]
  },
  {
   "cell_type": "markdown",
   "metadata": {},
   "source": [
    "#### Adding paths"
   ]
  },
  {
   "cell_type": "code",
   "execution_count": 18,
   "metadata": {},
   "outputs": [],
   "source": [
    "import sys\n",
    "sys.path.append('../')\n",
    "sys.path.append('../Scripts/')"
   ]
  },
  {
   "cell_type": "markdown",
   "metadata": {},
   "source": [
    "### Libraries"
   ]
  },
  {
   "cell_type": "code",
   "execution_count": 1,
   "metadata": {},
   "outputs": [],
   "source": [
    "import collections\n",
    "import json\n",
    "from Global_Variables import *\n",
    "import Aux_Functions as auxfunctions\n",
    "import numpy as np"
   ]
  },
  {
   "cell_type": "markdown",
   "metadata": {},
   "source": [
    "### Open fasta file & Acession Number e Sequence"
   ]
  },
  {
   "cell_type": "code",
   "execution_count": 2,
   "metadata": {},
   "outputs": [],
   "source": [
    "All_database = {}"
   ]
  },
  {
   "cell_type": "code",
   "execution_count": 3,
   "metadata": {},
   "outputs": [],
   "source": [
    "Datasets_Reference = [(\"NS5A_1b_06.03.2018.aln\",\"1b\"),\n",
    "                     (\"NS5A_GEN1a_02.05.16\",\"1a\"),\n",
    "                     (\"NS5A_GEN3_05.05.16\",\"3\")]"
   ]
  },
  {
   "cell_type": "code",
   "execution_count": null,
   "metadata": {},
   "outputs": [],
   "source": [
    "for dataset in Datasets_Reference:\n",
    "    name_dataset = dataset[0]\n",
    "    genotype_dataset = dataset[1]\n",
    "    All_database[genotype_dataset] = []\n",
    "    fasta = open(\"../Data/\" + name_dataset) \n",
    "    \"\"\"The file must be in the same folder as the code\"\"\"\n",
    "    Sequences = collections.OrderedDict() \n",
    "    \"\"\"[Acession Number, Sequence]\"\"\"\n",
    "    Data_Seq = []\n",
    "    \"\"\"[Sequence Name,[Position,codon,AminoAcid,Resistance(True or False)]]\"\"\"\n",
    "\n",
    "    for linha in fasta:\n",
    "        linha = linha.replace(\"\\n\",\"\")\n",
    "        if linha.startswith(\">\"):\n",
    "            name = linha[1:]\n",
    "            name = name.split()\n",
    "            name = name[0]\n",
    "            sequence = \"\"\n",
    "            Data_Seq.append([name])\n",
    "            \"\"\"Acession Number\"\"\"\n",
    "        else:\n",
    "            sequence += linha\n",
    "            \"\"\"Sequence\"\"\"\n",
    "        Sequences[name] = sequence\n",
    "        \n",
    "    All_database[genotype_dataset].append(Sequences)\n",
    "\n",
    "    \"\"\" Position, codon, AminoAcid e Resistance \"\"\"\n",
    "    for Sequence in Data_Seq:\n",
    "        codons = []\n",
    "        for ras in Resistance:\n",
    "            \"\"\"ras = resistance associated substitutions\"\"\"\n",
    "            resistant = False\n",
    "            Complete_sequence = Sequences[Sequence[0]]\n",
    "            \"\"\"Position\"\"\"\n",
    "            codon = Complete_sequence[(ras*3)-3:(ras*3)]\n",
    "            \"\"\"Codon\"\"\"\n",
    "            AminoAcid = codontable[codon] \n",
    "            \"\"\"AminoAcid\"\"\"\n",
    "            if AminoAcid in Resistance[ras]:\n",
    "                \"\"\"Resistance Check\"\"\"\n",
    "                resistant = True\n",
    "            codons.append([ras,codon,AminoAcid,resistant])\n",
    "        Sequence.append(codons)\n",
    "    \n",
    "    All_database[genotype_dataset].append(Data_Seq)\n",
    "    fasta.close() \n",
    "\n",
    "    \"\"\" Frequency Analysis \"\"\"\n",
    "\n",
    "    Frequencies = collections.OrderedDict()\n",
    "    Info_Frequency = []\n",
    "    for Sequence in Data_Seq:\n",
    "        for data in Sequence[1]:\n",
    "            \"\"\" data = [Position, codon, AminoAcid, Resistance] \"\"\"\n",
    "            if \"Position %d\" % data[0] not in Frequencies:\n",
    "                Frequencies[\"Position %d\" % data[0]] = collections.OrderedDict()\n",
    "            if data[1] not in Frequencies[\"Position %d\" % data[0]]:\n",
    "                Frequencies[\"Position %d\" % data[0]][data[1]] = 0\n",
    "            Frequencies[\"Position %d\" % data[0]] [data[1]] += 1\n",
    "\n",
    "    for x,y in Frequencies.items():\n",
    "        \"\"\"Posição\"\"\"\n",
    "        for key,value in y.items():\n",
    "            relative_frequency = (value/len(Data_Seq))\n",
    "            Info_Frequency.append([x,key,value, relative_frequency])\n",
    "    All_database[genotype_dataset].append(Info_Frequency)\n",
    "    frequency_file = open(\"../Outputs/Frequência_Genótipo %s\" % genotype_dataset, \"w\")\n",
    "    print(\"Genótipo %s \" % genotype_dataset)\n",
    "    #frequencia_file.write((\"Genótipo %s \" % genotype_dataset) + \"\\n\") \n",
    "    for z in Info_Frequency:\n",
    "        frequency_instance = str(z)\n",
    "        frequency_instance = frequency_instance.replace(\"\\'\",\"\")\n",
    "        frequency_file.write(frequency_instance[1:-1] + \"\\n\")\n",
    "    print(np.array(Info_Frequency))\n",
    "    frequency_file.close()"
   ]
  },
  {
   "cell_type": "code",
   "execution_count": null,
   "metadata": {},
   "outputs": [],
   "source": []
  },
  {
   "cell_type": "code",
   "execution_count": 3,
   "metadata": {},
   "outputs": [],
   "source": [
    "positions_list = (28,29,30,31,32,54,92,93) \n",
    "dataset = \"NS5A_1b_06.03.2018.aln\""
   ]
  },
  {
   "cell_type": "code",
   "execution_count": null,
   "metadata": {},
   "outputs": [],
   "source": []
  }
 ],
 "metadata": {
  "kernelspec": {
   "display_name": "Python 3",
   "language": "python",
   "name": "python3"
  },
  "language_info": {
   "codemirror_mode": {
    "name": "ipython",
    "version": 3
   },
   "file_extension": ".py",
   "mimetype": "text/x-python",
   "name": "python",
   "nbconvert_exporter": "python",
   "pygments_lexer": "ipython3",
   "version": "3.7.6"
  }
 },
 "nbformat": 4,
 "nbformat_minor": 4
}
