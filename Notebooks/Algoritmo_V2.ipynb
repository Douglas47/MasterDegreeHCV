{
 "cells": [
  {
   "cell_type": "markdown",
   "metadata": {},
   "source": [
    "# MESTRADO - DOUGLAS DE ANDRADE DE ALMEIDA\n",
    "\n",
    "## TÍTULO: ALGORITMO DE PREDIÇÃO DE DESENVOLVIMENTO DE RESISTÊNCIA DO VÍRUS DA HEPATITE C (HCV) AOS ANTIVIRAIS DE AÇÃO DIRETA\n",
    "\n",
    "## FEVEREIRO/2018"
   ]
  },
  {
   "cell_type": "markdown",
   "metadata": {},
   "source": [
    "#### Adding paths"
   ]
  },
  {
   "cell_type": "code",
   "execution_count": null,
   "metadata": {},
   "outputs": [],
   "source": [
    "import sys\n",
    "sys.path.append('../')\n",
    "sys.path.append('../Scripts/')"
   ]
  },
  {
   "cell_type": "markdown",
   "metadata": {},
   "source": [
    "### Libraries"
   ]
  },
  {
   "cell_type": "code",
   "execution_count": null,
   "metadata": {},
   "outputs": [],
   "source": [
    "import collections\n",
    "import json\n",
    "from Global_Variables import *\n",
    "import Aux_Functions as af\n",
    "import numpy as np"
   ]
  },
  {
   "cell_type": "markdown",
   "metadata": {},
   "source": [
    "### Open fasta file & Acession Number e Sequence"
   ]
  },
  {
   "cell_type": "code",
   "execution_count": null,
   "metadata": {},
   "outputs": [],
   "source": [
    "All_database = {}"
   ]
  },
  {
   "cell_type": "code",
   "execution_count": null,
   "metadata": {},
   "outputs": [],
   "source": [
    "Datasets_Reference = [(\"NS5A_1b_06.03.2018.aln\",\"1b\"),\n",
    "                     (\"NS5A_GEN1a_02.05.16\",\"1a\"),\n",
    "                     (\"NS5A_GEN3_05.05.16\",\"3\")]"
   ]
  },
  {
   "cell_type": "code",
   "execution_count": null,
   "metadata": {},
   "outputs": [],
   "source": [
    "genotype_1a = af.fasta_to_dict(\"../Data/\" + \"NS5A_1b_06.03.2018.aln\")"
   ]
  },
  {
   "cell_type": "code",
   "execution_count": null,
   "metadata": {},
   "outputs": [],
   "source": [
    "genotype_1a"
   ]
  },
  {
   "cell_type": "code",
   "execution_count": null,
   "metadata": {},
   "outputs": [],
   "source": [
    "\"\"\" Frequency Analysis \"\"\"\n",
    "Frequencies = collections.OrderedDict()\n",
    "Info_Frequency = []\n",
    "for Sequence in Data_Seq:\n",
    "    for data in Sequence[1]:\n",
    "        \"\"\" data = [Position, codon, AminoAcid, Resistance] \"\"\"\n",
    "        if \"Position %d\" % data[0] not in Frequencies:\n",
    "            Frequencies[\"Position %d\" % data[0]] = collections.OrderedDict()\n",
    "        if data[1] not in Frequencies[\"Position %d\" % data[0]]:\n",
    "            Frequencies[\"Position %d\" % data[0]][data[1]] = 0\n",
    "        Frequencies[\"Position %d\" % data[0]] [data[1]] += 1\n",
    "#frequencia_file.write((\"Genótio %s \" % genotype_dataset) + \"\\n\") "
   ]
  },
  {
   "cell_type": "code",
   "execution_count": null,
   "metadata": {},
   "outputs": [],
   "source": [
    "for x,y in Frequencies.items():\n",
    "    \"\"\"Posição\"\"\"\n",
    "    for key,value in y.items():\n",
    "        relative_frequency = (value/len(Data_Seq))\n",
    "        Info_Frequency.append([x,key,value, relative_frequency])"
   ]
  },
  {
   "cell_type": "code",
   "execution_count": null,
   "metadata": {},
   "outputs": [],
   "source": [
    "All_database[genotype_dataset].append(Info_Frequency)\n",
    "frequency_file = open(\"../Outputs/Frequência_Genótipo %s\" % genotype_dataset, \"w\")\n",
    "print(\"Genótipo %s \" % genotype_dataset)"
   ]
  },
  {
   "cell_type": "code",
   "execution_count": null,
   "metadata": {},
   "outputs": [],
   "source": [
    "for z in Info_Frequency:\n",
    "    frequency_instance = str(z)\n",
    "    frequency_instance = frequency_instance.replace(\"\\'\",\"\")\n",
    "    frequency_file.write(frequency_instance[1:-1] + \"\\n\")\n",
    "print(np.array(Info_Frequency))\n",
    "frequency_file.close()"
   ]
  },
  {
   "cell_type": "code",
   "execution_count": null,
   "metadata": {},
   "outputs": [],
   "source": []
  }
 ],
 "metadata": {
  "kernelspec": {
   "display_name": "Python 3",
   "language": "python",
   "name": "python3"
  },
  "language_info": {
   "codemirror_mode": {
    "name": "ipython",
    "version": 3
   },
   "file_extension": ".py",
   "mimetype": "text/x-python",
   "name": "python",
   "nbconvert_exporter": "python",
   "pygments_lexer": "ipython3",
   "version": "3.7.4"
  }
 },
 "nbformat": 4,
 "nbformat_minor": 4
}
