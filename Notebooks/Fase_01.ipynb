{
 "cells": [
  {
   "cell_type": "markdown",
   "metadata": {},
   "source": [
    "# Tabela do Paciente"
   ]
  },
  {
   "cell_type": "markdown",
   "metadata": {},
   "source": [
    "#### Adicionando os paths"
   ]
  },
  {
   "cell_type": "code",
   "execution_count": 1,
   "metadata": {},
   "outputs": [],
   "source": [
    "import sys\n",
    "sys.path.append('../')\n",
    "sys.path.append('../Scripts/')"
   ]
  },
  {
   "cell_type": "markdown",
   "metadata": {},
   "source": [
    "#### Importando bibliotecas"
   ]
  },
  {
   "cell_type": "code",
   "execution_count": 2,
   "metadata": {},
   "outputs": [],
   "source": [
    "import collections\n",
    "import pandas as pd\n",
    "import Aux_Functions as af \n",
    "from Global_Variables import *"
   ]
  },
  {
   "cell_type": "markdown",
   "metadata": {},
   "source": [
    "#### Informações do paciente"
   ]
  },
  {
   "cell_type": "code",
   "execution_count": 3,
   "metadata": {},
   "outputs": [],
   "source": [
    "file = \"../Dados/NS5A_GEN1a_02.05.16\"\n",
    "genotype = \"1a\""
   ]
  },
  {
   "cell_type": "markdown",
   "metadata": {},
   "source": [
    "#### Transformando as informações do paciente em uma tabela"
   ]
  },
  {
   "cell_type": "code",
   "execution_count": 4,
   "metadata": {},
   "outputs": [],
   "source": [
    "pacients_data = af.fasta_to_dict(file)"
   ]
  },
  {
   "cell_type": "markdown",
   "metadata": {},
   "source": [
    "#### Criando a tabela do paciente"
   ]
  },
  {
   "cell_type": "code",
   "execution_count": 5,
   "metadata": {},
   "outputs": [],
   "source": [
    "df_codons = pd.DataFrame(columns=[\"Sequence\", \"Genotype\", \"Position\", \"Codon\"])"
   ]
  },
  {
   "cell_type": "code",
   "execution_count": 6,
   "metadata": {},
   "outputs": [],
   "source": [
    "for pacient in pacients_data.keys():\n",
    "    codons = af.sequence_codons(pacients_data[pacient])\n",
    "    for position in codons.items():\n",
    "        new_row = [pacient, genotype, position[0], position[1]]\n",
    "        new_series = pd.Series(new_row, index = df_codons.columns)\n",
    "        df_codons = df_codons.append(new_series, ignore_index=True)"
   ]
  },
  {
   "cell_type": "code",
   "execution_count": 7,
   "metadata": {},
   "outputs": [
    {
     "data": {
      "text/html": [
       "<div>\n",
       "<style scoped>\n",
       "    .dataframe tbody tr th:only-of-type {\n",
       "        vertical-align: middle;\n",
       "    }\n",
       "\n",
       "    .dataframe tbody tr th {\n",
       "        vertical-align: top;\n",
       "    }\n",
       "\n",
       "    .dataframe thead th {\n",
       "        text-align: right;\n",
       "    }\n",
       "</style>\n",
       "<table border=\"1\" class=\"dataframe\">\n",
       "  <thead>\n",
       "    <tr style=\"text-align: right;\">\n",
       "      <th></th>\n",
       "      <th>Sequence</th>\n",
       "      <th>Genotype</th>\n",
       "      <th>Position</th>\n",
       "      <th>Codon</th>\n",
       "    </tr>\n",
       "  </thead>\n",
       "  <tbody>\n",
       "    <tr>\n",
       "      <th>0</th>\n",
       "      <td>JX112598.1a.US.2009</td>\n",
       "      <td>1a</td>\n",
       "      <td>24</td>\n",
       "      <td>AAG</td>\n",
       "    </tr>\n",
       "    <tr>\n",
       "      <th>1</th>\n",
       "      <td>JX112598.1a.US.2009</td>\n",
       "      <td>1a</td>\n",
       "      <td>28</td>\n",
       "      <td>ATG</td>\n",
       "    </tr>\n",
       "    <tr>\n",
       "      <th>2</th>\n",
       "      <td>JX112598.1a.US.2009</td>\n",
       "      <td>1a</td>\n",
       "      <td>30</td>\n",
       "      <td>CAA</td>\n",
       "    </tr>\n",
       "    <tr>\n",
       "      <th>3</th>\n",
       "      <td>JX112598.1a.US.2009</td>\n",
       "      <td>1a</td>\n",
       "      <td>31</td>\n",
       "      <td>CTG</td>\n",
       "    </tr>\n",
       "    <tr>\n",
       "      <th>4</th>\n",
       "      <td>JX112598.1a.US.2009</td>\n",
       "      <td>1a</td>\n",
       "      <td>32</td>\n",
       "      <td>CCT</td>\n",
       "    </tr>\n",
       "    <tr>\n",
       "      <th>...</th>\n",
       "      <td>...</td>\n",
       "      <td>...</td>\n",
       "      <td>...</td>\n",
       "      <td>...</td>\n",
       "    </tr>\n",
       "    <tr>\n",
       "      <th>12325</th>\n",
       "      <td>FJ958693.1a.US.2005</td>\n",
       "      <td>1a</td>\n",
       "      <td>32</td>\n",
       "      <td>CCT</td>\n",
       "    </tr>\n",
       "    <tr>\n",
       "      <th>12326</th>\n",
       "      <td>FJ958693.1a.US.2005</td>\n",
       "      <td>1a</td>\n",
       "      <td>54</td>\n",
       "      <td>CAC</td>\n",
       "    </tr>\n",
       "    <tr>\n",
       "      <th>12327</th>\n",
       "      <td>FJ958693.1a.US.2005</td>\n",
       "      <td>1a</td>\n",
       "      <td>58</td>\n",
       "      <td>CAC</td>\n",
       "    </tr>\n",
       "    <tr>\n",
       "      <th>12328</th>\n",
       "      <td>FJ958693.1a.US.2005</td>\n",
       "      <td>1a</td>\n",
       "      <td>92</td>\n",
       "      <td>GCC</td>\n",
       "    </tr>\n",
       "    <tr>\n",
       "      <th>12329</th>\n",
       "      <td>FJ958693.1a.US.2005</td>\n",
       "      <td>1a</td>\n",
       "      <td>93</td>\n",
       "      <td>TAC</td>\n",
       "    </tr>\n",
       "  </tbody>\n",
       "</table>\n",
       "<p>12330 rows × 4 columns</p>\n",
       "</div>"
      ],
      "text/plain": [
       "                  Sequence Genotype Position Codon\n",
       "0      JX112598.1a.US.2009       1a       24   AAG\n",
       "1      JX112598.1a.US.2009       1a       28   ATG\n",
       "2      JX112598.1a.US.2009       1a       30   CAA\n",
       "3      JX112598.1a.US.2009       1a       31   CTG\n",
       "4      JX112598.1a.US.2009       1a       32   CCT\n",
       "...                    ...      ...      ...   ...\n",
       "12325  FJ958693.1a.US.2005       1a       32   CCT\n",
       "12326  FJ958693.1a.US.2005       1a       54   CAC\n",
       "12327  FJ958693.1a.US.2005       1a       58   CAC\n",
       "12328  FJ958693.1a.US.2005       1a       92   GCC\n",
       "12329  FJ958693.1a.US.2005       1a       93   TAC\n",
       "\n",
       "[12330 rows x 4 columns]"
      ]
     },
     "execution_count": 7,
     "metadata": {},
     "output_type": "execute_result"
    }
   ],
   "source": [
    "df_codons"
   ]
  },
  {
   "cell_type": "markdown",
   "metadata": {},
   "source": [
    "#### Criando arquivo de Dataset do paciente"
   ]
  },
  {
   "cell_type": "code",
   "execution_count": 8,
   "metadata": {},
   "outputs": [],
   "source": [
    "df_codons.to_csv(\"../Outputs/Dataset_Paciente.csv\", sep=\";\", index=False)"
   ]
  }
 ],
 "metadata": {
  "kernelspec": {
   "display_name": "Python 3",
   "language": "python",
   "name": "python3"
  },
  "language_info": {
   "codemirror_mode": {
    "name": "ipython",
    "version": 3
   },
   "file_extension": ".py",
   "mimetype": "text/x-python",
   "name": "python",
   "nbconvert_exporter": "python",
   "pygments_lexer": "ipython3",
   "version": "3.7.6"
  }
 },
 "nbformat": 4,
 "nbformat_minor": 4
}
