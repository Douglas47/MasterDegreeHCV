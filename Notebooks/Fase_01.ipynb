{
 "cells": [
  {
   "cell_type": "markdown",
   "metadata": {},
   "source": [
    "# Tabela do Paciente"
   ]
  },
  {
   "cell_type": "markdown",
   "metadata": {},
   "source": [
    "#### Adicionando os paths"
   ]
  },
  {
   "cell_type": "code",
   "execution_count": 1,
   "metadata": {},
   "outputs": [],
   "source": [
    "import sys\n",
    "sys.path.append('../')\n",
    "sys.path.append('../Scripts/')"
   ]
  },
  {
   "cell_type": "markdown",
   "metadata": {},
   "source": [
    "#### Importando bibliotecas"
   ]
  },
  {
   "cell_type": "code",
   "execution_count": 2,
   "metadata": {},
   "outputs": [],
   "source": [
    "import collections\n",
    "import pandas as pd\n",
    "import Aux_Functions as af \n",
    "from Global_Variables import *"
   ]
  },
  {
   "cell_type": "markdown",
   "metadata": {},
   "source": [
    "#### Informações do paciente"
   ]
  },
  {
   "cell_type": "code",
   "execution_count": 3,
   "metadata": {},
   "outputs": [],
   "source": [
    "file = \"../Dados/Patient.txt\"\n",
    "genotype = \"1b\""
   ]
  },
  {
   "cell_type": "markdown",
   "metadata": {},
   "source": [
    "#### Transformando as informações do paciente em uma tabela"
   ]
  },
  {
   "cell_type": "code",
   "execution_count": 4,
   "metadata": {},
   "outputs": [],
   "source": [
    "pacients_data = af.fasta_to_dict(file)"
   ]
  },
  {
   "cell_type": "markdown",
   "metadata": {},
   "source": [
    "#### Criando a tabela do paciente"
   ]
  },
  {
   "cell_type": "code",
   "execution_count": 5,
   "metadata": {},
   "outputs": [],
   "source": [
    "df_codons = pd.DataFrame(columns=[\"Sequence\", \"Genotype\", \"Position\", \"Codon\"])"
   ]
  },
  {
   "cell_type": "code",
   "execution_count": 6,
   "metadata": {},
   "outputs": [],
   "source": [
    "for pacient in pacients_data.keys():\n",
    "    codons = af.sequence_codons(pacients_data[pacient])\n",
    "    for position in codons.items():\n",
    "        new_row = [pacient, genotype, position[0], position[1]]\n",
    "        new_series = pd.Series(new_row, index = df_codons.columns)\n",
    "        df_codons = df_codons.append(new_series, ignore_index=True)"
   ]
  },
  {
   "cell_type": "code",
   "execution_count": 7,
   "metadata": {},
   "outputs": [
    {
     "data": {
      "text/html": [
       "<div>\n",
       "<style scoped>\n",
       "    .dataframe tbody tr th:only-of-type {\n",
       "        vertical-align: middle;\n",
       "    }\n",
       "\n",
       "    .dataframe tbody tr th {\n",
       "        vertical-align: top;\n",
       "    }\n",
       "\n",
       "    .dataframe thead th {\n",
       "        text-align: right;\n",
       "    }\n",
       "</style>\n",
       "<table border=\"1\" class=\"dataframe\">\n",
       "  <thead>\n",
       "    <tr style=\"text-align: right;\">\n",
       "      <th></th>\n",
       "      <th>Sequence</th>\n",
       "      <th>Genotype</th>\n",
       "      <th>Position</th>\n",
       "      <th>Codon</th>\n",
       "    </tr>\n",
       "  </thead>\n",
       "  <tbody>\n",
       "    <tr>\n",
       "      <th>0</th>\n",
       "      <td>MXYZPTLK</td>\n",
       "      <td>1b</td>\n",
       "      <td>24</td>\n",
       "      <td>CAG</td>\n",
       "    </tr>\n",
       "    <tr>\n",
       "      <th>1</th>\n",
       "      <td>MXYZPTLK</td>\n",
       "      <td>1b</td>\n",
       "      <td>28</td>\n",
       "      <td>CTG</td>\n",
       "    </tr>\n",
       "    <tr>\n",
       "      <th>2</th>\n",
       "      <td>MXYZPTLK</td>\n",
       "      <td>1b</td>\n",
       "      <td>30</td>\n",
       "      <td>CGG</td>\n",
       "    </tr>\n",
       "    <tr>\n",
       "      <th>3</th>\n",
       "      <td>MXYZPTLK</td>\n",
       "      <td>1b</td>\n",
       "      <td>31</td>\n",
       "      <td>TTG</td>\n",
       "    </tr>\n",
       "    <tr>\n",
       "      <th>4</th>\n",
       "      <td>MXYZPTLK</td>\n",
       "      <td>1b</td>\n",
       "      <td>32</td>\n",
       "      <td>CCG</td>\n",
       "    </tr>\n",
       "    <tr>\n",
       "      <th>5</th>\n",
       "      <td>MXYZPTLK</td>\n",
       "      <td>1b</td>\n",
       "      <td>54</td>\n",
       "      <td>CAC</td>\n",
       "    </tr>\n",
       "    <tr>\n",
       "      <th>6</th>\n",
       "      <td>MXYZPTLK</td>\n",
       "      <td>1b</td>\n",
       "      <td>58</td>\n",
       "      <td>CCA</td>\n",
       "    </tr>\n",
       "    <tr>\n",
       "      <th>7</th>\n",
       "      <td>MXYZPTLK</td>\n",
       "      <td>1b</td>\n",
       "      <td>92</td>\n",
       "      <td>GCG</td>\n",
       "    </tr>\n",
       "    <tr>\n",
       "      <th>8</th>\n",
       "      <td>MXYZPTLK</td>\n",
       "      <td>1b</td>\n",
       "      <td>93</td>\n",
       "      <td>TAC</td>\n",
       "    </tr>\n",
       "  </tbody>\n",
       "</table>\n",
       "</div>"
      ],
      "text/plain": [
       "   Sequence Genotype Position Codon\n",
       "0  MXYZPTLK       1b       24   CAG\n",
       "1  MXYZPTLK       1b       28   CTG\n",
       "2  MXYZPTLK       1b       30   CGG\n",
       "3  MXYZPTLK       1b       31   TTG\n",
       "4  MXYZPTLK       1b       32   CCG\n",
       "5  MXYZPTLK       1b       54   CAC\n",
       "6  MXYZPTLK       1b       58   CCA\n",
       "7  MXYZPTLK       1b       92   GCG\n",
       "8  MXYZPTLK       1b       93   TAC"
      ]
     },
     "execution_count": 7,
     "metadata": {},
     "output_type": "execute_result"
    }
   ],
   "source": [
    "df_codons"
   ]
  },
  {
   "cell_type": "markdown",
   "metadata": {},
   "source": [
    "#### Criando arquivo de Dataset do paciente"
   ]
  },
  {
   "cell_type": "code",
   "execution_count": 8,
   "metadata": {},
   "outputs": [],
   "source": [
    "df_codons.to_csv(\"../Outputs/Dataset_Paciente.csv\", sep=\";\", index=False)"
   ]
  }
 ],
 "metadata": {
  "kernelspec": {
   "display_name": "Python 3",
   "language": "python",
   "name": "python3"
  },
  "language_info": {
   "codemirror_mode": {
    "name": "ipython",
    "version": 3
   },
   "file_extension": ".py",
   "mimetype": "text/x-python",
   "name": "python",
   "nbconvert_exporter": "python",
   "pygments_lexer": "ipython3",
   "version": "3.7.3"
  }
 },
 "nbformat": 4,
 "nbformat_minor": 4
}
