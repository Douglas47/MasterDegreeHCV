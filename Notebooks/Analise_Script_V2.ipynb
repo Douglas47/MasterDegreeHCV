{
 "cells": [
  {
   "cell_type": "markdown",
   "metadata": {},
   "source": [
    "#### Adding paths"
   ]
  },
  {
   "cell_type": "code",
   "execution_count": 18,
   "metadata": {},
   "outputs": [],
   "source": [
    "import sys\n",
    "sys.path.append('../')\n",
    "sys.path.append('../Scripts/')"
   ]
  },
  {
   "cell_type": "markdown",
   "metadata": {},
   "source": [
    "#### Libraries"
   ]
  },
  {
   "cell_type": "code",
   "execution_count": 19,
   "metadata": {},
   "outputs": [],
   "source": [
    "import Aux_Functions as auxfunctions"
   ]
  },
  {
   "cell_type": "markdown",
   "metadata": {},
   "source": [
    "#### Open the patient file"
   ]
  },
  {
   "cell_type": "code",
   "execution_count": 20,
   "metadata": {},
   "outputs": [],
   "source": [
    "paciente = open(\"../Outputs/patient_info\")"
   ]
  },
  {
   "cell_type": "markdown",
   "metadata": {},
   "source": [
    "#### List of all Genotypes Availables"
   ]
  },
  {
   "cell_type": "code",
   "execution_count": 22,
   "metadata": {},
   "outputs": [],
   "source": [
    "Genotypes = {\"1a\": \"Frequência_Genótipo 1a\", \"1b\":\"Frequência_Genótipo 1b\", \"3\":\"Frequência_Genótipo 3\"}"
   ]
  },
  {
   "cell_type": "markdown",
   "metadata": {},
   "source": [
    "Patient information list"
   ]
  },
  {
   "cell_type": "code",
   "execution_count": null,
   "metadata": {},
   "outputs": [],
   "source": [
    "paciente_info = []"
   ]
  },
  {
   "cell_type": "markdown",
   "metadata": {},
   "source": [
    "#### Convert the patient data - String to List of Strings"
   ]
  },
  {
   "cell_type": "code",
   "execution_count": null,
   "metadata": {},
   "outputs": [],
   "source": [
    "for info in paciente:\n",
    "   info_clean = info.replace(\"\\'\",\"\")\n",
    "   info_clean = info_clean.replace(\"\\n\", \"\")\n",
    "   paciente_info.append(info_clean.split(\",\"))"
   ]
  },
  {
   "cell_type": "markdown",
   "metadata": {},
   "source": [
    "#### Here the user have to input the Patient Genotype"
   ]
  },
  {
   "cell_type": "markdown",
   "metadata": {},
   "source": [
    "Mudar talvez?"
   ]
  },
  {
   "cell_type": "code",
   "execution_count": null,
   "metadata": {},
   "outputs": [],
   "source": [
    "while True:\n",
    "   p_genotype = input(\"Genótipo (1a, 1b ou 3):\")\n",
    "   if p_genotype not in Genotypes:\n",
    "      print (\"Genótipo não identificado\")\n",
    "   else:\n",
    "      break"
   ]
  },
  {
   "cell_type": "markdown",
   "metadata": {},
   "source": [
    "#### Opens the population file for the input genotype"
   ]
  },
  {
   "cell_type": "code",
   "execution_count": 42,
   "metadata": {},
   "outputs": [],
   "source": [
    "population = open(\"../Outputs/\" + Genotypes[p_genotype])\n",
    "Pop_positions = {}\n",
    "for x in population:\n",
    "    x = x.replace(\"\\n\",\"\")\n",
    "    x = x.replace(\"Position \", \"\")   \n",
    "    x = x.split(\",\")\n",
    "    if x[0] not in Pop_positions:\n",
    "        Pop_acumulador = []\n",
    "    Pop_acumulador.append(x[1:])\n",
    "    Pop_positions[x[0]] = Pop_acumulador"
   ]
  },
  {
   "cell_type": "code",
   "execution_count": 43,
   "metadata": {},
   "outputs": [
    {
     "name": "stdout",
     "output_type": "stream",
     "text": [
      "28\n",
      "[' CTG', ' 764', ' 0.9271844660194175']\n",
      "[' CTA', ' 15', ' 0.01820388349514563']\n",
      "[' ATG', ' 14', ' 0.01699029126213592']\n",
      "[' TTG', ' 19', ' 0.023058252427184466']\n",
      "[' GTG', ' 3', ' 0.0036407766990291263']\n",
      "[' CTC', ' 6', ' 0.007281553398058253']\n",
      "[' CTT', ' 2', ' 0.0024271844660194173']\n",
      "[' CCG', ' 1', ' 0.0012135922330097086']\n",
      "29\n",
      "[' CCG', ' 678', ' 0.8228155339805825']\n",
      "[' CCA', ' 138', ' 0.16747572815533981']\n",
      "[' CCC', ' 4', ' 0.0048543689320388345']\n",
      "[' TCA', ' 1', ' 0.0012135922330097086']\n",
      "[' CCT', ' 3', ' 0.0036407766990291263']\n",
      "30\n",
      "[' CGG', ' 668', ' 0.8106796116504854']\n",
      "[' CGA', ' 108', ' 0.13106796116504854']\n",
      "[' CAG', ' 31', ' 0.03762135922330097']\n",
      "[' CGC', ' 4', ' 0.0048543689320388345']\n",
      "[' AGG', ' 4', ' 0.0048543689320388345']\n",
      "[' CAA', ' 3', ' 0.0036407766990291263']\n",
      "[' AAG', ' 1', ' 0.0012135922330097086']\n",
      "[' AAA', ' 2', ' 0.0024271844660194173']\n",
      "[' CGT', ' 2', ' 0.0024271844660194173']\n",
      "[' ATG', ' 1', ' 0.0012135922330097086']\n",
      "31\n",
      "[' CTG', ' 91', ' 0.1104368932038835']\n",
      "[' TTA', ' 367', ' 0.44538834951456313']\n",
      "[' CTA', ' 71', ' 0.08616504854368932']\n",
      "[' TTG', ' 260', ' 0.3155339805825243']\n",
      "[' ATG', ' 28', ' 0.03398058252427184']\n",
      "[' CTT', ' 3', ' 0.0036407766990291263']\n",
      "[' ATA', ' 2', ' 0.0024271844660194173']\n",
      "[' CCA', ' 1', ' 0.0012135922330097086']\n",
      "[' CTC', ' 1', ' 0.0012135922330097086']\n",
      "32\n",
      "[' CCG', ' 732', ' 0.8883495145631068']\n",
      "[' CCA', ' 78', ' 0.09466019417475728']\n",
      "[' CCT', ' 3', ' 0.0036407766990291263']\n",
      "[' CCC', ' 11', ' 0.013349514563106795']\n",
      "58\n",
      "[' CCA', ' 684', ' 0.8300970873786407']\n",
      "[' CCC', ' 12', ' 0.014563106796116505']\n",
      "[' CCG', ' 74', ' 0.08980582524271845']\n",
      "[' CAA', ' 2', ' 0.0024271844660194173']\n",
      "[' TCA', ' 26', ' 0.03155339805825243']\n",
      "[' CCT', ' 4', ' 0.0048543689320388345']\n",
      "[' CTG', ' 1', ' 0.0012135922330097086']\n",
      "[' GCA', ' 4', ' 0.0048543689320388345']\n",
      "[' CTA', ' 5', ' 0.006067961165048544']\n",
      "[' ACA', ' 8', ' 0.009708737864077669']\n",
      "[' TCT', ' 1', ' 0.0012135922330097086']\n",
      "[' ACG', ' 1', ' 0.0012135922330097086']\n",
      "[' TTA', ' 1', ' 0.0012135922330097086']\n",
      "[' ACT', ' 1', ' 0.0012135922330097086']\n",
      "92\n",
      "[' GCA', ' 470', ' 0.5703883495145631']\n",
      "[' GCG', ' 324', ' 0.3932038834951456']\n",
      "[' GGA', ' 2', ' 0.0024271844660194173']\n",
      "[' ACG', ' 7', ' 0.00849514563106796']\n",
      "[' GCT', ' 9', ' 0.010922330097087379']\n",
      "[' GCC', ' 3', ' 0.0036407766990291263']\n",
      "[' GTG', ' 3', ' 0.0036407766990291263']\n",
      "[' GTA', ' 1', ' 0.0012135922330097086']\n",
      "[' ACA', ' 4', ' 0.0048543689320388345']\n",
      "[' TCA', ' 1', ' 0.0012135922330097086']\n",
      "93\n",
      "[' TAC', ' 779', ' 0.9453883495145631']\n",
      "[' TAT', ' 13', ' 0.015776699029126214']\n",
      "[' CAC', ' 31', ' 0.03762135922330097']\n",
      "[' TGC', ' 1', ' 0.0012135922330097086']\n"
     ]
    }
   ],
   "source": [
    "# Print do dicionário\n",
    "for data in Pop_positions.items():\n",
    "    \"\"\" Position \"\"\"\n",
    "    print(data[0])\n",
    "    \"\"\" Codon data \"\"\"\n",
    "    for codon_data in data[1]:\n",
    "        print(codon_data)"
   ]
  },
  {
   "cell_type": "code",
   "execution_count": 44,
   "metadata": {},
   "outputs": [],
   "source": [
    "paciente_dict = {}\n",
    "for position in paciente_info:\n",
    "    paciente_dict[position[1]] = position[2:]"
   ]
  },
  {
   "cell_type": "code",
   "execution_count": 45,
   "metadata": {},
   "outputs": [
    {
     "data": {
      "text/plain": [
       "{' 28': [' CTG', ' L', ' False'],\n",
       " ' 29': [' CCA', ' P', ' False'],\n",
       " ' 30': [' CGG', ' R', ' False'],\n",
       " ' 31': [' TTG', ' L', ' False'],\n",
       " ' 32': [' CCG', ' P', ' False'],\n",
       " ' 58': [' CCA', ' P', ' False'],\n",
       " ' 92': [' GCG', ' A', ' False'],\n",
       " ' 93': [' TAC', ' Y', ' False']}"
      ]
     },
     "execution_count": 45,
     "metadata": {},
     "output_type": "execute_result"
    }
   ],
   "source": [
    "paciente_dict"
   ]
  },
  {
   "cell_type": "code",
   "execution_count": null,
   "metadata": {},
   "outputs": [],
   "source": []
  },
  {
   "cell_type": "code",
   "execution_count": null,
   "metadata": {},
   "outputs": [],
   "source": []
  },
  {
   "cell_type": "code",
   "execution_count": null,
   "metadata": {},
   "outputs": [],
   "source": []
  }
 ],
 "metadata": {
  "kernelspec": {
   "display_name": "Python 3",
   "language": "python",
   "name": "python3"
  },
  "language_info": {
   "codemirror_mode": {
    "name": "ipython",
    "version": 3
   },
   "file_extension": ".py",
   "mimetype": "text/x-python",
   "name": "python",
   "nbconvert_exporter": "python",
   "pygments_lexer": "ipython3",
   "version": "3.7.6"
  }
 },
 "nbformat": 4,
 "nbformat_minor": 4
}
